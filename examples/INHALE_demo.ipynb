{
 "cells": [
  {
   "cell_type": "code",
   "execution_count": 1,
   "id": "926589fa",
   "metadata": {},
   "outputs": [],
   "source": [
    "import os\n",
    "# os.environ['TF_XLA_FLAGS'] = '--tf_xla_enable_xla_devices' ## enable xla devices\n",
    "os.environ['TF_CPP_MIN_LOG_LEVEL'] = '2'\n",
    "# !nvidia-smi ## check Nvidia GPU details\n",
    "# !nvidia-smi -L\n",
    "# !nvidia-smi -q\n",
    "# !lscpu\n",
    "# !lscpu |grep 'Model name' ## Check CPU details\n",
    "# !lscpu |grep 'Number of Socket(s):'\n",
    "# !lscpu | grep 'Core(s) each processor has/per socket:'\n",
    "# !lscpu | grep 'Number of threads/core:'\n",
    "# !free -h --si | awk  '/Mem:/{print $2}'\n",
    "\n",
    "# if use tpu\n",
    "# import tensorflow as tf\n",
    "# try:\n",
    "#   tpu = tf.distribute.cluster_resolver.TPUClusterResolver()  # TPU detection\n",
    "#   print('Running on TPU ', tpu.cluster_spec().as_dict()['worker'])\n",
    "# except ValueError:\n",
    "#   raise BaseException('ERROR: Not connected to a TPU runtime; please see the previous cell in this notebook for instructions!')\n",
    "\n",
    "# tf.config.experimental_connect_to_cluster(tpu)\n",
    "# tf.tpu.experimental.initialize_tpu_system(tpu)\n",
    "# tpu_strategy = tf.distribute.TPUStrategy(tpu)"
   ]
  },
  {
   "cell_type": "code",
   "execution_count": 2,
   "id": "9cc4cc92",
   "metadata": {
    "id": "b2f59362"
   },
   "outputs": [],
   "source": [
    "# Python ≥3.5 is required\n",
    "import sys\n",
    "assert sys.version_info >= (3, 5)\n",
    "\n",
    "# TensorFlow ≥2.0 is required\n",
    "import tensorflow as tf\n",
    "from tensorflow import keras\n",
    "assert tf.__version__ >= \"2.0\"\n",
    "\n",
    "# Common imports\n",
    "import numpy as np\n",
    "\n",
    "# To plot pretty figures\n",
    "%matplotlib inline\n",
    "import matplotlib as mpl\n",
    "import matplotlib.pyplot as plt\n",
    "mpl.rc('axes', labelsize=28)\n",
    "mpl.rc('xtick', labelsize=24)\n",
    "mpl.rc('ytick', labelsize=24)\n",
    "\n",
    "import math\n",
    "import time \n",
    "# from scipy.stats import multivariate_normal\n",
    "from mpl_toolkits.mplot3d import Axes3D"
   ]
  },
  {
   "cell_type": "code",
   "execution_count": 3,
   "id": "119f8a9b",
   "metadata": {
    "colab": {
     "base_uri": "https://localhost:8080/"
    },
    "executionInfo": {
     "elapsed": 21,
     "status": "ok",
     "timestamp": 1660206591362,
     "user": {
      "displayName": "boyang chen",
      "userId": "06142203300109756904"
     },
     "user_tz": -60
    },
    "id": "4c6b79d9",
    "outputId": "10ab0815-65fe-4f70-b44b-7ab9377e562c"
   },
   "outputs": [
    {
     "data": {
      "text/plain": [
       "[PhysicalDevice(name='/physical_device:CPU:0', device_type='CPU')]"
      ]
     },
     "execution_count": 3,
     "metadata": {},
     "output_type": "execute_result"
    }
   ],
   "source": [
    "import tensorflow as tf\n",
    "tf.config.list_physical_devices()"
   ]
  },
  {
   "cell_type": "code",
   "execution_count": 4,
   "id": "0214815b",
   "metadata": {
    "colab": {
     "base_uri": "https://localhost:8080/"
    },
    "executionInfo": {
     "elapsed": 17,
     "status": "ok",
     "timestamp": 1660206591365,
     "user": {
      "displayName": "boyang chen",
      "userId": "06142203300109756904"
     },
     "user_tz": -60
    },
    "id": "dfeaa679",
    "outputId": "db01dd2f-0e35-46a0-9bcd-5b03fdaa0efa"
   },
   "outputs": [
    {
     "name": "stdout",
     "output_type": "stream",
     "text": [
      "False\n"
     ]
    }
   ],
   "source": [
    "is_gpu = len(tf.config.list_physical_devices('GPU')) > 0 \n",
    "print(is_gpu)"
   ]
  },
  {
   "cell_type": "markdown",
   "id": "0554de9c",
   "metadata": {
    "id": "f171d074"
   },
   "source": [
    "# CFD Parameters"
   ]
  },
  {
   "cell_type": "code",
   "execution_count": 18,
   "id": "8faaf7e5",
   "metadata": {
    "id": "1c8a818f"
   },
   "outputs": [
    {
     "name": "stdout",
     "output_type": "stream",
     "text": [
      "Levels of Multigrid: 8\n",
      "Aspect ratio of Domain: 0\n"
     ]
    }
   ],
   "source": [
    "dt = 0.5\n",
    "dx = 1.0\n",
    "dy = 1.0\n",
    "dz = 1.0\n",
    "Re = 1/20\n",
    "ub = 1\n",
    "# nx = 4096\n",
    "# ny = 4096\n",
    "# nz = 256\n",
    "nx = 32\n",
    "ny = 32\n",
    "nz = 128\n",
    "ratio = int(nx/nz)\n",
    "nlevel = int(math.log(nz, 2)) + 1 \n",
    "print('Levels of Multigrid:', nlevel)\n",
    "print('Aspect ratio of Domain:', ratio)"
   ]
  },
  {
   "cell_type": "markdown",
   "id": "2e3199f6",
   "metadata": {
    "id": "ace7235a"
   },
   "source": [
    "# Weights of CNNs layers"
   ]
  },
  {
   "cell_type": "code",
   "execution_count": 19,
   "id": "ed02df19",
   "metadata": {
    "id": "e0f0bb8c"
   },
   "outputs": [],
   "source": [
    "pd1 = [[2/26, 3/26,  2/26],\n",
    "       [3/26, 6/26,  3/26],\n",
    "       [2/26, 3/26,  2/26]]\n",
    "pd2 = [[3/26, 6/26,  3/26],\n",
    "       [6/26, -88/26, 6/26],\n",
    "       [3/26, 6/26,  3/26]]\n",
    "pd3 = [[2/26, 3/26,  2/26],\n",
    "       [3/26, 6/26,  3/26],\n",
    "       [2/26, 3/26,  2/26]]\n",
    "w1 = np.zeros([1,3,3,3,1])\n",
    "w1[0,0,:,:,0] = np.array(pd1)*dt*Re/dx**2\n",
    "w1[0,1,:,:,0] = np.array(pd2)*dt*Re/dx**2 \n",
    "w1[0,2,:,:,0] = np.array(pd3)*dt*Re/dx**2 "
   ]
  },
  {
   "cell_type": "code",
   "execution_count": 20,
   "id": "d0cf7773",
   "metadata": {
    "id": "f5dba927"
   },
   "outputs": [],
   "source": [
    "p_div_x1 = [[-0.014, 0.0, 0.014],\n",
    "       [-0.056, 0.0, 0.056],\n",
    "       [-0.014, 0.0, 0.014]]\n",
    "p_div_x2 = [[-0.056, 0.0, 0.056],\n",
    "       [-0.22, 0.0, 0.22],\n",
    "       [-0.056, 0.0, 0.056]]\n",
    "p_div_x3 = [[-0.014, 0.0, 0.014],\n",
    "       [-0.056, 0.0, 0.056],\n",
    "       [-0.014, 0.0, 0.014]]\n",
    "\n",
    "p_div_y1 = [[0.014, 0.056, 0.014],\n",
    "       [0.0, 0.0, 0.0],\n",
    "       [-0.014, -0.056, -0.014]]\n",
    "p_div_y2 = [[0.056, 0.22, 0.056],\n",
    "       [0.0, 0.0, 0.0],\n",
    "       [-0.056, -0.22, -0.056]]\n",
    "p_div_y3 = [[0.014, 0.056, 0.014],\n",
    "       [0.0, 0.0, 0.0],\n",
    "       [-0.014, -0.056, -0.014]]\n",
    "\n",
    "p_div_z1 = [[0.014, 0.056, 0.014],\n",
    "       [0.056, 0.22, 0.056],\n",
    "       [0.014, 0.056, 0.014]]\n",
    "p_div_z2 = [[0.0, 0.0, 0.0],\n",
    "       [0.0, 0.0, 0.0],\n",
    "       [0.0, 0.0, 0.0]]\n",
    "p_div_z3 = [[-0.014, -0.056, -0.014],\n",
    "       [-0.056, -0.22, -0.056],\n",
    "       [-0.014, -0.056, -0.014]]\n",
    "w2 = np.zeros([1,3,3,3,1])\n",
    "w3 = np.zeros([1,3,3,3,1])\n",
    "w4 = np.zeros([1,3,3,3,1])\n",
    "\n",
    "w2[0,0,:,:,0] = np.array(p_div_x1)*dt/dx*0.5\n",
    "w2[0,1,:,:,0] = np.array(p_div_x2)*dt/dx*0.5\n",
    "w2[0,2,:,:,0] = np.array(p_div_x3)*dt/dx*0.5\n",
    "\n",
    "w3[0,0,:,:,0] = np.array(p_div_y1)*dt/dx*0.5\n",
    "w3[0,1,:,:,0] = np.array(p_div_y2)*dt/dx*0.5\n",
    "w3[0,2,:,:,0] = np.array(p_div_y3)*dt/dx*0.5 \n",
    "\n",
    "w4[0,0,:,:,0] = np.array(p_div_z1)*dt/dx*0.5 \n",
    "w4[0,1,:,:,0] = np.array(p_div_z2)*dt/dx*0.5\n",
    "w4[0,2,:,:,0] = np.array(p_div_z3)*dt/dx*0.5"
   ]
  },
  {
   "cell_type": "code",
   "execution_count": 8,
   "id": "451736ab",
   "metadata": {
    "id": "26895df4"
   },
   "outputs": [],
   "source": [
    "pA1 = [[2/26, 3/26,  2/26],\n",
    "       [3/26, 6/26,  3/26],\n",
    "       [2/26, 3/26,  2/26]]\n",
    "pA2 = [[3/26, 6/26,  3/26],\n",
    "       [6/26, -88/26, 6/26],\n",
    "       [3/26, 6/26,  3/26]]\n",
    "pA3 = [[2/26, 3/26,  2/26],\n",
    "       [3/26, 6/26,  3/26],\n",
    "       [2/26, 3/26,  2/26]]\n",
    "w5 = np.zeros([1,3,3,3,1])\n",
    "w5[0,0,:,:,0] = -np.array(pA1)/dx**2\n",
    "w5[0,1,:,:,0] = -np.array(pA2)/dx**2 \n",
    "w5[0,2,:,:,0] = -np.array(pA3)/dx**2 "
   ]
  },
  {
   "cell_type": "code",
   "execution_count": 21,
   "id": "0c687e2d",
   "metadata": {
    "id": "71482df7"
   },
   "outputs": [],
   "source": [
    "pctyu1 = [[-0.014, 0.0, 0.014],\n",
    "       [-0.056, 0.0, 0.056],\n",
    "       [-0.014, 0.0, 0.014]]\n",
    "pctyu2 = [[-0.056, 0.0, 0.056],\n",
    "       [-0.22, 0.0, 0.22],\n",
    "       [-0.056, 0.0, 0.056]]\n",
    "pctyu3 = [[-0.014, 0.0, 0.014],\n",
    "       [-0.056, 0.0, 0.056],\n",
    "       [-0.014, 0.0, 0.014]]\n",
    "\n",
    "pctyv1 = [[0.014, 0.056, 0.014],\n",
    "       [0.0, 0.0, 0.0],\n",
    "       [-0.014, -0.056, -0.014]]\n",
    "pctyv2 = [[0.056, 0.22, 0.056],\n",
    "       [0.0, 0.0, 0.0],\n",
    "       [-0.056, -0.22, -0.056]]\n",
    "pctyv3 = [[0.014, 0.056, 0.014],\n",
    "       [0.0, 0.0, 0.0],\n",
    "       [-0.014, -0.056, -0.014]]\n",
    "\n",
    "pctyw1 = [[0.014, 0.056, 0.014],\n",
    "       [0.056, 0.22, 0.056],\n",
    "       [0.014, 0.056, 0.014]]\n",
    "pctyw2 = [[0.0, 0.0, 0.0],\n",
    "       [0.0, 0.0, 0.0],\n",
    "       [0.0, 0.0, 0.0]]\n",
    "pctyw3 = [[-0.014, -0.056, -0.014],\n",
    "       [-0.056, -0.22, -0.056],\n",
    "       [-0.014, -0.056, -0.014]]\n",
    "w6 = np.zeros([1,3,3,3,1])\n",
    "w7 = np.zeros([1,3,3,3,1])\n",
    "w8 = np.zeros([1,3,3,3,1])\n",
    "w9 = np.zeros([1,2,2,2,1])\n",
    "w6[0,0,:,:,0] = np.array(pctyu1)/(dx*dt)*0.5\n",
    "w6[0,1,:,:,0] = np.array(pctyu2)/(dx*dt)*0.5\n",
    "w6[0,2,:,:,0] = np.array(pctyu3)/(dx*dt)*0.5\n",
    "w7[0,0,:,:,0] = np.array(pctyv1)/(dx*dt)*0.5\n",
    "w7[0,1,:,:,0] = np.array(pctyv2)/(dx*dt)*0.5\n",
    "w7[0,2,:,:,0] = np.array(pctyv3)/(dx*dt)*0.5 \n",
    "w8[0,0,:,:,0] = np.array(pctyw1)/(dx*dt)*0.5\n",
    "w8[0,1,:,:,0] = np.array(pctyw2)/(dx*dt)*0.5\n",
    "w8[0,2,:,:,0] = np.array(pctyw3)/(dx*dt)*0.5\n",
    "w9[0,:,:,:,0] = 0.125"
   ]
  },
  {
   "cell_type": "code",
   "execution_count": 22,
   "id": "0a59ac0b",
   "metadata": {
    "id": "697ccdae"
   },
   "outputs": [],
   "source": [
    "kernel_initializer_1 = tf.keras.initializers.constant(w1)\n",
    "kernel_initializer_2 = tf.keras.initializers.constant(w2)\n",
    "kernel_initializer_3 = tf.keras.initializers.constant(w3)\n",
    "kernel_initializer_4 = tf.keras.initializers.constant(w4)\n",
    "kernel_initializer_5 = tf.keras.initializers.constant(w5)\n",
    "kernel_initializer_6 = tf.keras.initializers.constant(w6)\n",
    "kernel_initializer_7 = tf.keras.initializers.constant(w7)\n",
    "kernel_initializer_8 = tf.keras.initializers.constant(w8)\n",
    "kernel_initializer_9 = tf.keras.initializers.constant(w9)\n",
    "bias_initializer = tf.keras.initializers.constant(np.zeros((1,)))"
   ]
  },
  {
   "cell_type": "markdown",
   "id": "4899326c",
   "metadata": {
    "id": "016d9c76"
   },
   "source": [
    "# Libraries for solving momentum equation"
   ]
  },
  {
   "cell_type": "code",
   "execution_count": 23,
   "id": "038b30ad",
   "metadata": {
    "id": "e2f9dc6c"
   },
   "outputs": [],
   "source": [
    "CNN3D_central_2nd_dif = keras.models.Sequential([\n",
    "         keras.layers.InputLayer(input_shape=(nz, ny, nx, 1)),\n",
    "         tf.keras.layers.Conv3D(1, kernel_size=3, strides=1, padding='SAME',\n",
    "                                kernel_initializer=kernel_initializer_1,\n",
    "                                bias_initializer=bias_initializer),\n",
    "])\n",
    "\n",
    "CNN3D_central_2nd_xadv = keras.models.Sequential([\n",
    "         keras.layers.InputLayer(input_shape=(nz, ny, nx, 1)),\n",
    "         tf.keras.layers.Conv3D(1, kernel_size=3, strides=1, padding='SAME',\n",
    "                                kernel_initializer=kernel_initializer_2,\n",
    "                                bias_initializer=bias_initializer),\n",
    "])\n",
    "\n",
    "CNN3D_central_2nd_yadv = keras.models.Sequential([\n",
    "         keras.layers.InputLayer(input_shape=(nz, ny, nx, 1)),\n",
    "         tf.keras.layers.Conv3D(1, kernel_size=3, strides=1, padding='SAME',\n",
    "                                kernel_initializer=kernel_initializer_3,\n",
    "                                bias_initializer=bias_initializer),\n",
    "])\n",
    "\n",
    "CNN3D_central_2nd_zadv = keras.models.Sequential([\n",
    "         keras.layers.InputLayer(input_shape=(nz, ny, nx, 1)),\n",
    "         tf.keras.layers.Conv3D(1, kernel_size=3, strides=1, padding='SAME',\n",
    "                                kernel_initializer=kernel_initializer_4,\n",
    "                                bias_initializer=bias_initializer),\n",
    "])\n",
    "\n",
    "CNN3D_Su = keras.models.Sequential([\n",
    "         keras.layers.InputLayer(input_shape=(nz, ny, nx, 1)),\n",
    "         tf.keras.layers.Conv3D(1, kernel_size=3, strides=1, padding='SAME',\n",
    "                                kernel_initializer=kernel_initializer_6,\n",
    "                                bias_initializer=bias_initializer),\n",
    "])\n",
    "\n",
    "CNN3D_Sv = keras.models.Sequential([\n",
    "         keras.layers.InputLayer(input_shape=(nz, ny, nx, 1)),\n",
    "         tf.keras.layers.Conv3D(1, kernel_size=3, strides=1, padding='SAME',\n",
    "                                kernel_initializer=kernel_initializer_7,\n",
    "                                bias_initializer=bias_initializer),\n",
    "])\n",
    "\n",
    "CNN3D_Sw = keras.models.Sequential([\n",
    "         keras.layers.InputLayer(input_shape=(nz, ny, nx, 1)),\n",
    "         tf.keras.layers.Conv3D(1, kernel_size=3, strides=1, padding='SAME',\n",
    "                                kernel_initializer=kernel_initializer_8,\n",
    "                                bias_initializer=bias_initializer),\n",
    "])\n"
   ]
  },
  {
   "cell_type": "markdown",
   "id": "9b504689",
   "metadata": {
    "id": "b12bfc11"
   },
   "source": [
    "# Libraries for multigrid algorithms"
   ]
  },
  {
   "cell_type": "code",
   "execution_count": 252,
   "id": "335a78e7",
   "metadata": {},
   "outputs": [
    {
     "name": "stdout",
     "output_type": "stream",
     "text": [
      "5\n",
      "0 : 130 34 34\n",
      "1 : 66 18 18\n",
      "2 : 34 10 10\n",
      "3 : 18 6 6\n",
      "4 : 10 4 4\n",
      "5 : 6 3 3\n"
     ]
    }
   ],
   "source": [
    "nlevel = int(math.log(32,2))\n",
    "print(nlevel)\n",
    "\n",
    "nz = 128\n",
    "nx = 32\n",
    "ny = 32\n",
    "\n",
    "temp = {}\n",
    "for i in range(nlevel+1):\n",
    "    print(i,\":\",int(nz*(0.5**i) + 2), int(ny*(0.5**i) + 2), int(nx*(0.5**i) + 2))\n",
    "    # # locals()['CNN3D_A_'+str(2**i)] \n",
    "    temp['CNN3D_A_'+str(2**(nlevel -i) + 2)] = keras.models.Sequential([\n",
    "         keras.layers.InputLayer(input_shape=(int(nz*(0.5**i) + 2), int(ny*(0.5**i) + 2), int(nx*(0.5**i) + 2), 1)),\n",
    "         tf.keras.layers.Conv3D(1, kernel_size=3, strides=1, padding='VALID',         \n",
    "                                kernel_initializer=kernel_initializer_5,\n",
    "                                bias_initializer=bias_initializer)\n",
    "    ])"
   ]
  },
  {
   "cell_type": "code",
   "execution_count": 215,
   "id": "5684a961",
   "metadata": {},
   "outputs": [
    {
     "data": {
      "text/plain": [
       "{'CNN3D_A_34': <keras.engine.sequential.Sequential at 0x7fb1e3503160>,\n",
       " 'CNN3D_A_18': <keras.engine.sequential.Sequential at 0x7fb1e35031f0>,\n",
       " 'CNN3D_A_10': <keras.engine.sequential.Sequential at 0x7fb1e3515780>,\n",
       " 'CNN3D_A_6': <keras.engine.sequential.Sequential at 0x7fb1e3514fd0>,\n",
       " 'CNN3D_A_4': <keras.engine.sequential.Sequential at 0x7fb1e3542950>,\n",
       " 'CNN3D_A_3': <keras.engine.sequential.Sequential at 0x7fb1e3543b80>}"
      ]
     },
     "execution_count": 215,
     "metadata": {},
     "output_type": "execute_result"
    }
   ],
   "source": [
    "temp"
   ]
  },
  {
   "cell_type": "code",
   "execution_count": 217,
   "id": "4f60b28c",
   "metadata": {},
   "outputs": [
    {
     "name": "stdout",
     "output_type": "stream",
     "text": [
      "Model: \"sequential_280\"\n",
      "_________________________________________________________________\n",
      " Layer (type)                Output Shape              Param #   \n",
      "=================================================================\n",
      " conv3d_250 (Conv3D)         (None, 4, 1, 1, 1)        28        \n",
      "                                                                 \n",
      "=================================================================\n",
      "Total params: 28\n",
      "Trainable params: 28\n",
      "Non-trainable params: 0\n",
      "_________________________________________________________________\n"
     ]
    }
   ],
   "source": [
    "temp['CNN3D_A_3'].summary()"
   ]
  },
  {
   "cell_type": "code",
   "execution_count": 228,
   "id": "82eb29c7",
   "metadata": {},
   "outputs": [],
   "source": [
    "temp = {}\n",
    "for i in range(0,nlevel):\n",
    "    # locals()\n",
    "    temp['CNN3D_res_'+str(2**(nlevel-i))] = keras.models.Sequential([\n",
    "         keras.layers.InputLayer(input_shape=(int(nz*0.5**(i)), int(ny*0.5**(i)), int(nx*0.5**(i)), 1)),\n",
    "         tf.keras.layers.Conv3D(1, kernel_size=2, strides=2, padding='VALID',  # restriction\n",
    "                                kernel_initializer=kernel_initializer_9,\n",
    "                                bias_initializer=bias_initializer),   \n",
    "])    "
   ]
  },
  {
   "cell_type": "code",
   "execution_count": 229,
   "id": "7623db16",
   "metadata": {},
   "outputs": [
    {
     "data": {
      "text/plain": [
       "{'CNN3D_res_32': <keras.engine.sequential.Sequential at 0x7fb1e322fa60>,\n",
       " 'CNN3D_res_16': <keras.engine.sequential.Sequential at 0x7fb1e2681630>,\n",
       " 'CNN3D_res_8': <keras.engine.sequential.Sequential at 0x7fb1e3210c10>,\n",
       " 'CNN3D_res_4': <keras.engine.sequential.Sequential at 0x7fb1e31bdb70>,\n",
       " 'CNN3D_res_2': <keras.engine.sequential.Sequential at 0x7fb1e31bc460>}"
      ]
     },
     "execution_count": 229,
     "metadata": {},
     "output_type": "execute_result"
    }
   ],
   "source": [
    "temp"
   ]
  },
  {
   "cell_type": "code",
   "execution_count": 232,
   "id": "0b6eab6b",
   "metadata": {},
   "outputs": [
    {
     "name": "stdout",
     "output_type": "stream",
     "text": [
      "Model: \"sequential_323\"\n",
      "_________________________________________________________________\n",
      " Layer (type)                Output Shape              Param #   \n",
      "=================================================================\n",
      " conv3d_293 (Conv3D)         (None, 64, 16, 16, 1)     9         \n",
      "                                                                 \n",
      "=================================================================\n",
      "Total params: 9\n",
      "Trainable params: 9\n",
      "Non-trainable params: 0\n",
      "_________________________________________________________________\n"
     ]
    }
   ],
   "source": [
    "temp['CNN3D_res_32'].summary()"
   ]
  },
  {
   "cell_type": "code",
   "execution_count": 247,
   "id": "2e2eb81e",
   "metadata": {},
   "outputs": [],
   "source": [
    "temp = {}\n",
    "for i in range(nlevel):\n",
    "#     locals()\n",
    "    temp['CNN3D_prol_'+str(2**i)] = keras.models.Sequential([\n",
    "         keras.layers.InputLayer(input_shape=(2**(i+2), 2**(i), 2**(i), 1)),\n",
    "         tf.keras.layers.UpSampling3D(size=(2, 2, 2)),\n",
    "    ])"
   ]
  },
  {
   "cell_type": "code",
   "execution_count": 248,
   "id": "27d76fab",
   "metadata": {},
   "outputs": [
    {
     "data": {
      "text/plain": [
       "{'CNN3D_prol_1': <keras.engine.sequential.Sequential at 0x7fb1c2346c50>,\n",
       " 'CNN3D_prol_2': <keras.engine.sequential.Sequential at 0x7fb1c2344be0>,\n",
       " 'CNN3D_prol_4': <keras.engine.sequential.Sequential at 0x7fb1c2359420>,\n",
       " 'CNN3D_prol_8': <keras.engine.sequential.Sequential at 0x7fb1c23396c0>,\n",
       " 'CNN3D_prol_16': <keras.engine.sequential.Sequential at 0x7fb1c2384790>}"
      ]
     },
     "execution_count": 248,
     "metadata": {},
     "output_type": "execute_result"
    }
   ],
   "source": [
    "temp"
   ]
  },
  {
   "cell_type": "code",
   "execution_count": 250,
   "id": "c4515a1f",
   "metadata": {},
   "outputs": [
    {
     "name": "stdout",
     "output_type": "stream",
     "text": [
      "Model: \"sequential_348\"\n",
      "_________________________________________________________________\n",
      " Layer (type)                Output Shape              Param #   \n",
      "=================================================================\n",
      " up_sampling3d_50 (UpSamplin  (None, 128, 32, 32, 1)   0         \n",
      " g3D)                                                            \n",
      "                                                                 \n",
      "=================================================================\n",
      "Total params: 0\n",
      "Trainable params: 0\n",
      "Non-trainable params: 0\n",
      "_________________________________________________________________\n"
     ]
    }
   ],
   "source": [
    "temp['CNN3D_prol_16'].summary()"
   ]
  },
  {
   "cell_type": "markdown",
   "id": "8e1a2144",
   "metadata": {
    "id": "7bf3e3dc"
   },
   "source": [
    "# Functions linking to the AI libraries"
   ]
  },
  {
   "cell_type": "code",
   "execution_count": 49,
   "id": "6efde319",
   "metadata": {
    "id": "3dc23239"
   },
   "outputs": [],
   "source": [
    "def boundary_condition_velocity(values_u,values_v,values_w):\n",
    "    'Define boundary conditions for velocity field'\n",
    "    tempu = tf.Variable(values_u)\n",
    "    tempv = tf.Variable(values_v)   \n",
    "    tempw = tf.Variable(values_w) \n",
    "    tempu[0,:,:,0,0].assign(tf.Variable(tf.ones((1,nz,ny)))[0,:]*ub) \n",
    "    tempv[0,:,:,0,0].assign(tf.Variable(tf.zeros((1,nz,ny)))[0,:])    \n",
    "    tempw[0,:,:,0,0].assign(tf.Variable(tf.zeros((1,nz,ny)))[0,:])    \n",
    "\n",
    "    tempu[0,:,:,nx-1,0].assign(tf.Variable(tf.ones((1,nz,ny)))[0,:]*ub) \n",
    "    tempv[0,:,:,nx-1,0].assign(tf.Variable(tf.zeros((1,nz,ny)))[0,:])   \n",
    "    tempw[0,:,:,nx-1,0].assign(tf.Variable(tf.zeros((1,nz,ny)))[0,:])  \n",
    "    \n",
    "    tempu[0,:,0,:,0].assign(tf.Variable(values_u)[0,:,1,:,0])     \n",
    "    tempv[0,:,0,:,0].assign(tf.Variable(tf.zeros((1,nz,nx)))[0,:])  \n",
    "    tempw[0,:,0,:,0].assign(tf.Variable(tf.zeros((1,nz,nx)))[0,:])  \n",
    "        \n",
    "    tempu[0,:,nx-1,:,0].assign(tf.Variable(values_u)[0,:,nx-2,:,0])      \n",
    "    tempv[0,:,nx-1,:,0].assign(tf.Variable(tf.zeros((1,nz,nx)))[0,:])     \n",
    "    tempw[0,:,nx-1,:,0].assign(tf.Variable(tf.zeros((1,nz,nx)))[0,:])  \n",
    "    \n",
    "    tempu[0,0,:,:,0].assign(tf.Variable(tf.zeros((1,ny,nx)))[0,:])     \n",
    "    tempv[0,0,:,:,0].assign(tf.Variable(tf.zeros((1,ny,nx)))[0,:])  \n",
    "    tempw[0,0,:,:,0].assign(tf.Variable(tf.zeros((1,ny,nx)))[0,:])  \n",
    "        \n",
    "    tempu[0,nz-1,:,:,0].assign(tf.Variable(values_u)[0,nz-2,:,:,0])      \n",
    "    tempv[0,nz-1,:,:,0].assign(tf.Variable(values_v)[0,nz-2,:,:,0])     \n",
    "    tempw[0,nz-1,:,:,0].assign(tf.Variable(tf.zeros((1,ny,nx)))[0,:])      \n",
    "    return tempu,tempv,tempw\n",
    "\n",
    "def boundary_condition_pressure(values_p,nx):\n",
    "    'Define boundary conditions for pressure field'\n",
    "    tempp = tf.Variable(values_p)   \n",
    "    tempp[0,:,:,nx-1,0].assign(tf.Variable(tf.zeros((1,nz,ny)))[0,:]) \n",
    "    tempp[0,:,:,0,0].assign(tf.Variable(values_p)[0,:,:,1,0])\n",
    "    \n",
    "    tempp[0,:,0,:,0].assign(tf.Variable(values_p)[0,:,1,:,0])     \n",
    "    tempp[0,:,nx-1,:,0].assign(tf.Variable(values_p)[0,:,nx-2,:,0]) \n",
    "    \n",
    "    tempp[0,0,:,:,0].assign(tf.Variable(values_p)[0,1,:,:,0])     \n",
    "    tempp[0,nz-1,:,:,0].assign(tf.Variable(values_p)[0,nz-2,:,:,0])  \n",
    "    return tempp\n",
    "\n",
    "def boundary_condition_indicator(alpha,nx):   \n",
    "    'Define boundary conditions for scalar field'\n",
    "    tempa = tf.Variable(alpha)   \n",
    "    tempa[0,:,:,nx-1,0].assign(tf.Variable(tf.zeros((1,nx,nx)))[0,:]) \n",
    "    tempa[0,:,:,0,0].assign(tf.Variable(tf.zeros((1,nx,nx)))[0,:])\n",
    "    \n",
    "    tempa[0,:,0,:,0].assign(tf.Variable(tf.zeros((1,nx,nx)))[0,:])     \n",
    "    tempa[0,:,nx-1,:,0].assign(tf.Variable(tf.zeros((1,nx,nx)))[0,:]) \n",
    "    \n",
    "    tempa[0,0,:,:,0].assign(tf.Variable(tf.zeros((1,nx,nx)))[0,:])     \n",
    "    tempa[0,nx-1,:,:,0].assign(tf.Variable(tf.zeros((1,nx,nx)))[0,:])  \n",
    "    return tempa\n",
    "\n",
    "def boundary_condition_source(b,nx):  \n",
    "    'Define inflow boundary conditions for source terms to'\n",
    "    'avoid incorrect paddings caused by CNNs'\n",
    "    tempb = tf.Variable(b)   \n",
    "    tempb[0,:,:,0,0].assign(tf.Variable(b)[0,:,:,1,0])\n",
    "    return tempb\n",
    "\n",
    "def bluff_body(values_u,values_v,values_w,sigma):\n",
    "    'Immersed Boundary for buildings'\n",
    "    temp1 = values_u / (1+dt*sigma) \n",
    "    temp2 = values_v / (1+dt*sigma)\n",
    "    temp3 = values_w / (1+dt*sigma) \n",
    "    return temp1,temp2,temp3\n",
    "\n",
    "def save_data(n_out,itime):\n",
    "    'Save field data'\n",
    "    if itime % n_out == 0:  \n",
    "        np.save(\"data_SK_Petrov_Galerkin_demo/uu\"+str(itime), arr=values_u[0,:,:,:,0])\n",
    "        np.save(\"data_SK_Petrov_Galerkin_demo/vv\"+str(itime), arr=values_v[0,:,:,:,0])\n",
    "        np.save(\"data_SK_Petrov_Galerkin_demo/ww\"+str(itime), arr=values_w[0,:,:,:,0])\n",
    "        np.save(\"data_SK_Petrov_Galerkin_demo/pp\"+str(itime), arr=values_p[0,:,:,:,0])"
   ]
  },
  {
   "cell_type": "code",
   "execution_count": 50,
   "id": "cc89d808",
   "metadata": {},
   "outputs": [],
   "source": [
    "def Petrov_Galerkin_dissipation(values_u, values_v, values_w, eplsion_k, sigma):    \n",
    "    '''Turbulence modelling using Petrov-Galerkin dissipation       \n",
    "    Input\n",
    "    ---------------------------------------------------------------------\n",
    "    values_u: u-component velocity \n",
    "    values_v: v-component velocity \n",
    "    values_w: w-component velocity \n",
    "    eplsion_k: Need to sufficiently large\n",
    "    \n",
    "    Output\n",
    "    ---------------------------------------------------------------------\n",
    "    k_x: Final diffusion matrix in x direction \n",
    "    k_y: Final diffusion matrix in y direction \n",
    "    k_z: Final diffusion matrix in z direction \n",
    "    '''\n",
    "    values_u = values_u / (1+dt*sigma) \n",
    "    values_v = values_v / (1+dt*sigma)     \n",
    "    values_w = values_w / (1+dt*sigma) \n",
    "      \n",
    "    k_u = 8 * 0.25 * abs(1/3*\n",
    "                               (abs(values_u) + abs(values_v) + abs(values_w)) * \n",
    "                               CNN3D_central_2nd_dif(values_u)) / (eplsion_k + \n",
    "                               (abs(CNN3D_central_2nd_xadv(values_u)) + \n",
    "                               abs(CNN3D_central_2nd_yadv(values_u)) + \n",
    "                               abs(CNN3D_central_2nd_zadv(values_u)))/3)\n",
    "    \n",
    "    k_v = 8 * 0.25 * abs(1/3*\n",
    "                               (abs(values_u) + abs(values_v) + abs(values_w)) * \n",
    "                               CNN3D_central_2nd_dif(values_v)) / (eplsion_k + \n",
    "                               (abs(CNN3D_central_2nd_xadv(values_v)) + \n",
    "                               abs(CNN3D_central_2nd_yadv(values_v)) + \n",
    "                               abs(CNN3D_central_2nd_zadv(values_v)))/3)\n",
    "    \n",
    "    k_w = 8 * 0.25 * abs(1/3*\n",
    "                               (abs(values_u) + abs(values_v) + abs(values_w)) * \n",
    "                               CNN3D_central_2nd_dif(values_w)) / (eplsion_k + \n",
    "                               (abs(CNN3D_central_2nd_xadv(values_w)) + \n",
    "                               abs(CNN3D_central_2nd_yadv(values_w)) + \n",
    "                               abs(CNN3D_central_2nd_zadv(values_w)))/3)\n",
    "       \n",
    "    k_u = tf.math.minimum(k_u, tf.ones(input_shape)*0.5) / (1+dt*sigma) \n",
    "    k_v = tf.math.minimum(k_v, tf.ones(input_shape)*0.5) / (1+dt*sigma)     \n",
    "    k_w = tf.math.minimum(k_w, tf.ones(input_shape)*0.5) / (1+dt*sigma)    \n",
    "    \n",
    "    \n",
    "    k_x = 3*0.5*(k_u*CNN3D_central_2nd_dif(values_u) +\n",
    "                CNN3D_central_2nd_dif(values_u*k_u) -\n",
    "                values_u*CNN3D_central_2nd_dif(k_u))\n",
    "\n",
    "\n",
    "    k_y = 3*0.5*(k_v*CNN3D_central_2nd_dif(values_v) + \n",
    "                CNN3D_central_2nd_dif(values_v*k_v) -\n",
    "                values_v*CNN3D_central_2nd_dif(k_v))\n",
    "\n",
    "\n",
    "    k_z = 3*0.5*(k_w*CNN3D_central_2nd_dif(values_w) + \n",
    "                CNN3D_central_2nd_dif(values_w*k_w) -\n",
    "                values_w*CNN3D_central_2nd_dif(k_w))\n",
    "\n",
    "    return k_x, k_y, k_z"
   ]
  },
  {
   "cell_type": "markdown",
   "id": "600283ce",
   "metadata": {
    "id": "1cc454fc"
   },
   "source": [
    "# Initialise"
   ]
  },
  {
   "cell_type": "code",
   "execution_count": 51,
   "id": "6e601369",
   "metadata": {
    "colab": {
     "base_uri": "https://localhost:8080/"
    },
    "executionInfo": {
     "elapsed": 28302,
     "status": "ok",
     "timestamp": 1660206753504,
     "user": {
      "displayName": "boyang chen",
      "userId": "06142203300109756904"
     },
     "user_tz": -60
    },
    "id": "4c9023af",
    "outputId": "abf0edec-761b-4ede-8baf-1a5b92b00953"
   },
   "outputs": [
    {
     "name": "stdout",
     "output_type": "stream",
     "text": [
      "============== Numerical parameters ===============\n",
      "Mesh resolution: (1, 120, 120, 120, 1)\n",
      "Time step: 10\n",
      "Initial time: 0\n",
      "Switch on IBM solver!\n",
      "===================================================\n"
     ]
    },
    {
     "data": {
      "image/png": "[encoded data removed]",
      "image/svg+xml": "<?xml version=\"1.0\" encoding=\"utf-8\" standalone=\"no\"?>\n<!DOCTYPE svg PUBLIC \"-//W3C//DTD SVG 1.1//EN\"\n  \"http://www.w3.org/Graphics/SVG/1.1/DTD/svg11.dtd\">\n<svg xmlns:xlink=\"http://www.w3.org/1999/xlink\" width=\"409.6511pt\" height=\"331.97575pt\" viewBox=\"0 0 409.6511 331.97575\" xmlns=\"http://www.w3.org/2000/svg\" version=\"1.1\">\n <metadata>\n  <rdf:RDF xmlns:dc=\"http://purl.org/dc/elements/1.1/\" xmlns:cc=\"http://creativecommons.org/ns#\" xmlns:rdf=\"http://www.w3.org/1999/02/22-rdf-syntax-ns#\">\n   <cc:Work>\n    <dc:type rdf:resource=\"http://purl.org/dc/dcmitype/StillImage\"/>\n    <dc:date>2023-01-20T21:16:22.991332</dc:date>\n    <dc:format>image/svg+xml</dc:format>\n    <dc:creator>\n     <cc:Agent>\n      <dc:title>Matplotlib v3.5.2, https://matplotlib.org/</dc:title>\n     </cc:Agent>\n    </dc:creator>\n   </cc:Work>\n  </rdf:RDF>\n </metadata>\n <defs>\n  <style type=\"text/css\">*{stroke-linejoin: round; stroke-linecap: butt}</style>\n </defs>\n <g id=\"figure_1\">\n  <g id=\"patch_1\">\n   <path d=\"M 0 331.97575 \nL 409.6511 331.97575 \nL 409.6511 0 \nL 0 0 \nz\n\" style=\"fill: #ffffff\"/>\n  </g>\n  <g id=\"axes_1\">\n   <g id=\"patch_2\">\n    <path d=\"M 60.01 294.54825 \nL 326.122 294.54825 \nL 326.122 28.43625 \nL 60.01 28.43625 \nz\n\" style=\"fill: #ffffff\"/>\n   </g>\n   <g clip-path=\"url(#p0c43386539)\">\n    <image xlink:href=\"data:image/png;base64,\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\" id=\"imagefdf442ceda\" transform=\"scale(1 -1)translate(0 -266.4)\" x=\"60.01\" y=\"-28.14825\" width=\"266.4\" height=\"266.4\"/>\n   </g>\n   <g id=\"matplotlib.axis_1\">\n    <g id=\"xtick_1\">\n     <g id=\"line2d_1\">\n      <defs>\n       <path id=\"m751fb74c20\" d=\"M 0 0 \nL 0 3.5 \n\" style=\"stroke: #000000; stroke-width: 0.8\"/>\n      </defs>\n      <g>\n       <use xlink:href=\"#m751fb74c20\" x=\"61.1188\" y=\"294.54825\" style=\"stroke: #000000; stroke-width: 0.8\"/>\n      </g>\n     </g>\n     <g id=\"text_1\">\n      <!-- 0 -->\n      <g transform=\"translate(53.4838 319.7845)scale(0.24 -0.24)\">\n       <defs>\n        <path id=\"DejaVuSans-30\" d=\"M 2034 4250 \nQ 1547 4250 1301 3770 \nQ 1056 3291 1056 2328 \nQ 1056 1369 1301 889 \nQ 1547 409 2034 409 \nQ 2525 409 2770 889 \nQ 3016 1369 3016 2328 \nQ 3016 3291 2770 3770 \nQ 2525 4250 2034 4250 \nz\nM 2034 4750 \nQ 2819 4750 3233 4129 \nQ 3647 3509 3647 2328 \nQ 3647 1150 3233 529 \nQ 2819 -91 2034 -91 \nQ 1250 -91 836 529 \nQ 422 1150 422 2328 \nQ 422 3509 836 4129 \nQ 1250 4750 2034 4750 \nz\n\" transform=\"scale(0.015625)\"/>\n       </defs>\n       <use xlink:href=\"#DejaVuSans-30\"/>\n      </g>\n     </g>\n    </g>\n    <g id=\"xtick_2\">\n     <g id=\"line2d_2\">\n      <g>\n       <use xlink:href=\"#m751fb74c20\" x=\"171.9988\" y=\"294.54825\" style=\"stroke: #000000; stroke-width: 0.8\"/>\n      </g>\n     </g>\n     <g id=\"text_2\">\n      <!-- 50 -->\n      <g transform=\"translate(156.7288 319.7845)scale(0.24 -0.24)\">\n       <defs>\n        <path id=\"DejaVuSans-35\" d=\"M 691 4666 \nL 3169 4666 \nL 3169 4134 \nL 1269 4134 \nL 1269 2991 \nQ 1406 3038 1543 3061 \nQ 1681 3084 1819 3084 \nQ 2600 3084 3056 2656 \nQ 3513 2228 3513 1497 \nQ 3513 744 3044 326 \nQ 2575 -91 1722 -91 \nQ 1428 -91 1123 -41 \nQ 819 9 494 109 \nL 494 744 \nQ 775 591 1075 516 \nQ 1375 441 1709 441 \nQ 2250 441 2565 725 \nQ 2881 1009 2881 1497 \nQ 2881 1984 2565 2268 \nQ 2250 2553 1709 2553 \nQ 1456 2553 1204 2497 \nQ 953 2441 691 2322 \nL 691 4666 \nz\n\" transform=\"scale(0.015625)\"/>\n       </defs>\n       <use xlink:href=\"#DejaVuSans-35\"/>\n       <use xlink:href=\"#DejaVuSans-30\" x=\"63.623047\"/>\n      </g>\n     </g>\n    </g>\n    <g id=\"xtick_3\">\n     <g id=\"line2d_3\">\n      <g>\n       <use xlink:href=\"#m751fb74c20\" x=\"282.8788\" y=\"294.54825\" style=\"stroke: #000000; stroke-width: 0.8\"/>\n      </g>\n     </g>\n     <g id=\"text_3\">\n      <!-- 100 -->\n      <g transform=\"translate(259.9738 319.7845)scale(0.24 -0.24)\">\n       <defs>\n        <path id=\"DejaVuSans-31\" d=\"M 794 531 \nL 1825 531 \nL 1825 4091 \nL 703 3866 \nL 703 4441 \nL 1819 4666 \nL 2450 4666 \nL 2450 531 \nL 3481 531 \nL 3481 0 \nL 794 0 \nL 794 531 \nz\n\" transform=\"scale(0.015625)\"/>\n       </defs>\n       <use xlink:href=\"#DejaVuSans-31\"/>\n       <use xlink:href=\"#DejaVuSans-30\" x=\"63.623047\"/>\n       <use xlink:href=\"#DejaVuSans-30\" x=\"127.246094\"/>\n      </g>\n     </g>\n    </g>\n   </g>\n   <g id=\"matplotlib.axis_2\">\n    <g id=\"ytick_1\">\n     <g id=\"line2d_4\">\n      <defs>\n       <path id=\"m1511707003\" d=\"M 0 0 \nL -3.5 0 \n\" style=\"stroke: #000000; stroke-width: 0.8\"/>\n      </defs>\n      <g>\n       <use xlink:href=\"#m1511707003\" x=\"60.01\" y=\"293.43945\" style=\"stroke: #000000; stroke-width: 0.8\"/>\n      </g>\n     </g>\n     <g id=\"text_4\">\n      <!-- 0 -->\n      <g transform=\"translate(37.74 302.557575)scale(0.24 -0.24)\">\n       <use xlink:href=\"#DejaVuSans-30\"/>\n      </g>\n     </g>\n    </g>\n    <g id=\"ytick_2\">\n     <g id=\"line2d_5\">\n      <g>\n       <use xlink:href=\"#m1511707003\" x=\"60.01\" y=\"237.99945\" style=\"stroke: #000000; stroke-width: 0.8\"/>\n      </g>\n     </g>\n     <g id=\"text_5\">\n      <!-- 25 -->\n      <g transform=\"translate(22.47 247.117575)scale(0.24 -0.24)\">\n       <defs>\n        <path id=\"DejaVuSans-32\" d=\"M 1228 531 \nL 3431 531 \nL 3431 0 \nL 469 0 \nL 469 531 \nQ 828 903 1448 1529 \nQ 2069 2156 2228 2338 \nQ 2531 2678 2651 2914 \nQ 2772 3150 2772 3378 \nQ 2772 3750 2511 3984 \nQ 2250 4219 1831 4219 \nQ 1534 4219 1204 4116 \nQ 875 4013 500 3803 \nL 500 4441 \nQ 881 4594 1212 4672 \nQ 1544 4750 1819 4750 \nQ 2544 4750 2975 4387 \nQ 3406 4025 3406 3419 \nQ 3406 3131 3298 2873 \nQ 3191 2616 2906 2266 \nQ 2828 2175 2409 1742 \nQ 1991 1309 1228 531 \nz\n\" transform=\"scale(0.015625)\"/>\n       </defs>\n       <use xlink:href=\"#DejaVuSans-32\"/>\n       <use xlink:href=\"#DejaVuSans-35\" x=\"63.623047\"/>\n      </g>\n     </g>\n    </g>\n    <g id=\"ytick_3\">\n     <g id=\"line2d_6\">\n      <g>\n       <use xlink:href=\"#m1511707003\" x=\"60.01\" y=\"182.55945\" style=\"stroke: #000000; stroke-width: 0.8\"/>\n      </g>\n     </g>\n     <g id=\"text_6\">\n      <!-- 50 -->\n      <g transform=\"translate(22.47 191.677575)scale(0.24 -0.24)\">\n       <use xlink:href=\"#DejaVuSans-35\"/>\n       <use xlink:href=\"#DejaVuSans-30\" x=\"63.623047\"/>\n      </g>\n     </g>\n    </g>\n    <g id=\"ytick_4\">\n     <g id=\"line2d_7\">\n      <g>\n       <use xlink:href=\"#m1511707003\" x=\"60.01\" y=\"127.11945\" style=\"stroke: #000000; stroke-width: 0.8\"/>\n      </g>\n     </g>\n     <g id=\"text_7\">\n      <!-- 75 -->\n      <g transform=\"translate(22.47 136.237575)scale(0.24 -0.24)\">\n       <defs>\n        <path id=\"DejaVuSans-37\" d=\"M 525 4666 \nL 3525 4666 \nL 3525 4397 \nL 1831 0 \nL 1172 0 \nL 2766 4134 \nL 525 4134 \nL 525 4666 \nz\n\" transform=\"scale(0.015625)\"/>\n       </defs>\n       <use xlink:href=\"#DejaVuSans-37\"/>\n       <use xlink:href=\"#DejaVuSans-35\" x=\"63.623047\"/>\n      </g>\n     </g>\n    </g>\n    <g id=\"ytick_5\">\n     <g id=\"line2d_8\">\n      <g>\n       <use xlink:href=\"#m1511707003\" x=\"60.01\" y=\"71.67945\" style=\"stroke: #000000; stroke-width: 0.8\"/>\n      </g>\n     </g>\n     <g id=\"text_8\">\n      <!-- 100 -->\n      <g transform=\"translate(7.2 80.797575)scale(0.24 -0.24)\">\n       <use xlink:href=\"#DejaVuSans-31\"/>\n       <use xlink:href=\"#DejaVuSans-30\" x=\"63.623047\"/>\n       <use xlink:href=\"#DejaVuSans-30\" x=\"127.246094\"/>\n      </g>\n     </g>\n    </g>\n   </g>\n   <g id=\"patch_3\">\n    <path d=\"M 60.01 294.54825 \nL 60.01 28.43625 \n\" style=\"fill: none; stroke: #000000; stroke-width: 0.8; stroke-linejoin: miter; stroke-linecap: square\"/>\n   </g>\n   <g id=\"patch_4\">\n    <path d=\"M 326.122 294.54825 \nL 326.122 28.43625 \n\" style=\"fill: none; stroke: #000000; stroke-width: 0.8; stroke-linejoin: miter; stroke-linecap: square\"/>\n   </g>\n   <g id=\"patch_5\">\n    <path d=\"M 60.01 294.54825 \nL 326.122 294.54825 \n\" style=\"fill: none; stroke: #000000; stroke-width: 0.8; stroke-linejoin: miter; stroke-linecap: square\"/>\n   </g>\n   <g id=\"patch_6\">\n    <path d=\"M 60.01 28.43625 \nL 326.122 28.43625 \n\" style=\"fill: none; stroke: #000000; stroke-width: 0.8; stroke-linejoin: miter; stroke-linecap: square\"/>\n   </g>\n   <g id=\"text_9\">\n    <!-- South Kensington area -->\n    <g transform=\"translate(125.0785 22.43625)scale(0.12 -0.12)\">\n     <defs>\n      <path id=\"DejaVuSans-53\" d=\"M 3425 4513 \nL 3425 3897 \nQ 3066 4069 2747 4153 \nQ 2428 4238 2131 4238 \nQ 1616 4238 1336 4038 \nQ 1056 3838 1056 3469 \nQ 1056 3159 1242 3001 \nQ 1428 2844 1947 2747 \nL 2328 2669 \nQ 3034 2534 3370 2195 \nQ 3706 1856 3706 1288 \nQ 3706 609 3251 259 \nQ 2797 -91 1919 -91 \nQ 1588 -91 1214 -16 \nQ 841 59 441 206 \nL 441 856 \nQ 825 641 1194 531 \nQ 1563 422 1919 422 \nQ 2459 422 2753 634 \nQ 3047 847 3047 1241 \nQ 3047 1584 2836 1778 \nQ 2625 1972 2144 2069 \nL 1759 2144 \nQ 1053 2284 737 2584 \nQ 422 2884 422 3419 \nQ 422 4038 858 4394 \nQ 1294 4750 2059 4750 \nQ 2388 4750 2728 4690 \nQ 3069 4631 3425 4513 \nz\n\" transform=\"scale(0.015625)\"/>\n      <path id=\"DejaVuSans-6f\" d=\"M 1959 3097 \nQ 1497 3097 1228 2736 \nQ 959 2375 959 1747 \nQ 959 1119 1226 758 \nQ 1494 397 1959 397 \nQ 2419 397 2687 759 \nQ 2956 1122 2956 1747 \nQ 2956 2369 2687 2733 \nQ 2419 3097 1959 3097 \nz\nM 1959 3584 \nQ 2709 3584 3137 3096 \nQ 3566 2609 3566 1747 \nQ 3566 888 3137 398 \nQ 2709 -91 1959 -91 \nQ 1206 -91 779 398 \nQ 353 888 353 1747 \nQ 353 2609 779 3096 \nQ 1206 3584 1959 3584 \nz\n\" transform=\"scale(0.015625)\"/>\n      <path id=\"DejaVuSans-75\" d=\"M 544 1381 \nL 544 3500 \nL 1119 3500 \nL 1119 1403 \nQ 1119 906 1312 657 \nQ 1506 409 1894 409 \nQ 2359 409 2629 706 \nQ 2900 1003 2900 1516 \nL 2900 3500 \nL 3475 3500 \nL 3475 0 \nL 2900 0 \nL 2900 538 \nQ 2691 219 2414 64 \nQ 2138 -91 1772 -91 \nQ 1169 -91 856 284 \nQ 544 659 544 1381 \nz\nM 1991 3584 \nL 1991 3584 \nz\n\" transform=\"scale(0.015625)\"/>\n      <path id=\"DejaVuSans-74\" d=\"M 1172 4494 \nL 1172 3500 \nL 2356 3500 \nL 2356 3053 \nL 1172 3053 \nL 1172 1153 \nQ 1172 725 1289 603 \nQ 1406 481 1766 481 \nL 2356 481 \nL 2356 0 \nL 1766 0 \nQ 1100 0 847 248 \nQ 594 497 594 1153 \nL 594 3053 \nL 172 3053 \nL 172 3500 \nL 594 3500 \nL 594 4494 \nL 1172 4494 \nz\n\" transform=\"scale(0.015625)\"/>\n      <path id=\"DejaVuSans-68\" d=\"M 3513 2113 \nL 3513 0 \nL 2938 0 \nL 2938 2094 \nQ 2938 2591 2744 2837 \nQ 2550 3084 2163 3084 \nQ 1697 3084 1428 2787 \nQ 1159 2491 1159 1978 \nL 1159 0 \nL 581 0 \nL 581 4863 \nL 1159 4863 \nL 1159 2956 \nQ 1366 3272 1645 3428 \nQ 1925 3584 2291 3584 \nQ 2894 3584 3203 3211 \nQ 3513 2838 3513 2113 \nz\n\" transform=\"scale(0.015625)\"/>\n      <path id=\"DejaVuSans-20\" transform=\"scale(0.015625)\"/>\n      <path id=\"DejaVuSans-4b\" d=\"M 628 4666 \nL 1259 4666 \nL 1259 2694 \nL 3353 4666 \nL 4166 4666 \nL 1850 2491 \nL 4331 0 \nL 3500 0 \nL 1259 2247 \nL 1259 0 \nL 628 0 \nL 628 4666 \nz\n\" transform=\"scale(0.015625)\"/>\n      <path id=\"DejaVuSans-65\" d=\"M 3597 1894 \nL 3597 1613 \nL 953 1613 \nQ 991 1019 1311 708 \nQ 1631 397 2203 397 \nQ 2534 397 2845 478 \nQ 3156 559 3463 722 \nL 3463 178 \nQ 3153 47 2828 -22 \nQ 2503 -91 2169 -91 \nQ 1331 -91 842 396 \nQ 353 884 353 1716 \nQ 353 2575 817 3079 \nQ 1281 3584 2069 3584 \nQ 2775 3584 3186 3129 \nQ 3597 2675 3597 1894 \nz\nM 3022 2063 \nQ 3016 2534 2758 2815 \nQ 2500 3097 2075 3097 \nQ 1594 3097 1305 2825 \nQ 1016 2553 972 2059 \nL 3022 2063 \nz\n\" transform=\"scale(0.015625)\"/>\n      <path id=\"DejaVuSans-6e\" d=\"M 3513 2113 \nL 3513 0 \nL 2938 0 \nL 2938 2094 \nQ 2938 2591 2744 2837 \nQ 2550 3084 2163 3084 \nQ 1697 3084 1428 2787 \nQ 1159 2491 1159 1978 \nL 1159 0 \nL 581 0 \nL 581 3500 \nL 1159 3500 \nL 1159 2956 \nQ 1366 3272 1645 3428 \nQ 1925 3584 2291 3584 \nQ 2894 3584 3203 3211 \nQ 3513 2838 3513 2113 \nz\n\" transform=\"scale(0.015625)\"/>\n      <path id=\"DejaVuSans-73\" d=\"M 2834 3397 \nL 2834 2853 \nQ 2591 2978 2328 3040 \nQ 2066 3103 1784 3103 \nQ 1356 3103 1142 2972 \nQ 928 2841 928 2578 \nQ 928 2378 1081 2264 \nQ 1234 2150 1697 2047 \nL 1894 2003 \nQ 2506 1872 2764 1633 \nQ 3022 1394 3022 966 \nQ 3022 478 2636 193 \nQ 2250 -91 1575 -91 \nQ 1294 -91 989 -36 \nQ 684 19 347 128 \nL 347 722 \nQ 666 556 975 473 \nQ 1284 391 1588 391 \nQ 1994 391 2212 530 \nQ 2431 669 2431 922 \nQ 2431 1156 2273 1281 \nQ 2116 1406 1581 1522 \nL 1381 1569 \nQ 847 1681 609 1914 \nQ 372 2147 372 2553 \nQ 372 3047 722 3315 \nQ 1072 3584 1716 3584 \nQ 2034 3584 2315 3537 \nQ 2597 3491 2834 3397 \nz\n\" transform=\"scale(0.015625)\"/>\n      <path id=\"DejaVuSans-69\" d=\"M 603 3500 \nL 1178 3500 \nL 1178 0 \nL 603 0 \nL 603 3500 \nz\nM 603 4863 \nL 1178 4863 \nL 1178 4134 \nL 603 4134 \nL 603 4863 \nz\n\" transform=\"scale(0.015625)\"/>\n      <path id=\"DejaVuSans-67\" d=\"M 2906 1791 \nQ 2906 2416 2648 2759 \nQ 2391 3103 1925 3103 \nQ 1463 3103 1205 2759 \nQ 947 2416 947 1791 \nQ 947 1169 1205 825 \nQ 1463 481 1925 481 \nQ 2391 481 2648 825 \nQ 2906 1169 2906 1791 \nz\nM 3481 434 \nQ 3481 -459 3084 -895 \nQ 2688 -1331 1869 -1331 \nQ 1566 -1331 1297 -1286 \nQ 1028 -1241 775 -1147 \nL 775 -588 \nQ 1028 -725 1275 -790 \nQ 1522 -856 1778 -856 \nQ 2344 -856 2625 -561 \nQ 2906 -266 2906 331 \nL 2906 616 \nQ 2728 306 2450 153 \nQ 2172 0 1784 0 \nQ 1141 0 747 490 \nQ 353 981 353 1791 \nQ 353 2603 747 3093 \nQ 1141 3584 1784 3584 \nQ 2172 3584 2450 3431 \nQ 2728 3278 2906 2969 \nL 2906 3500 \nL 3481 3500 \nL 3481 434 \nz\n\" transform=\"scale(0.015625)\"/>\n      <path id=\"DejaVuSans-61\" d=\"M 2194 1759 \nQ 1497 1759 1228 1600 \nQ 959 1441 959 1056 \nQ 959 750 1161 570 \nQ 1363 391 1709 391 \nQ 2188 391 2477 730 \nQ 2766 1069 2766 1631 \nL 2766 1759 \nL 2194 1759 \nz\nM 3341 1997 \nL 3341 0 \nL 2766 0 \nL 2766 531 \nQ 2569 213 2275 61 \nQ 1981 -91 1556 -91 \nQ 1019 -91 701 211 \nQ 384 513 384 1019 \nQ 384 1609 779 1909 \nQ 1175 2209 1959 2209 \nL 2766 2209 \nL 2766 2266 \nQ 2766 2663 2505 2880 \nQ 2244 3097 1772 3097 \nQ 1472 3097 1187 3025 \nQ 903 2953 641 2809 \nL 641 3341 \nQ 956 3463 1253 3523 \nQ 1550 3584 1831 3584 \nQ 2591 3584 2966 3190 \nQ 3341 2797 3341 1997 \nz\n\" transform=\"scale(0.015625)\"/>\n      <path id=\"DejaVuSans-72\" d=\"M 2631 2963 \nQ 2534 3019 2420 3045 \nQ 2306 3072 2169 3072 \nQ 1681 3072 1420 2755 \nQ 1159 2438 1159 1844 \nL 1159 0 \nL 581 0 \nL 581 3500 \nL 1159 3500 \nL 1159 2956 \nQ 1341 3275 1631 3429 \nQ 1922 3584 2338 3584 \nQ 2397 3584 2469 3576 \nQ 2541 3569 2628 3553 \nL 2631 2963 \nz\n\" transform=\"scale(0.015625)\"/>\n     </defs>\n     <use xlink:href=\"#DejaVuSans-53\"/>\n     <use xlink:href=\"#DejaVuSans-6f\" x=\"63.476562\"/>\n     <use xlink:href=\"#DejaVuSans-75\" x=\"124.658203\"/>\n     <use xlink:href=\"#DejaVuSans-74\" x=\"188.037109\"/>\n     <use xlink:href=\"#DejaVuSans-68\" x=\"227.246094\"/>\n     <use xlink:href=\"#DejaVuSans-20\" x=\"290.625\"/>\n     <use xlink:href=\"#DejaVuSans-4b\" x=\"322.412109\"/>\n     <use xlink:href=\"#DejaVuSans-65\" x=\"382.988281\"/>\n     <use xlink:href=\"#DejaVuSans-6e\" x=\"444.511719\"/>\n     <use xlink:href=\"#DejaVuSans-73\" x=\"507.890625\"/>\n     <use xlink:href=\"#DejaVuSans-69\" x=\"559.990234\"/>\n     <use xlink:href=\"#DejaVuSans-6e\" x=\"587.773438\"/>\n     <use xlink:href=\"#DejaVuSans-67\" x=\"651.152344\"/>\n     <use xlink:href=\"#DejaVuSans-74\" x=\"714.628906\"/>\n     <use xlink:href=\"#DejaVuSans-6f\" x=\"753.837891\"/>\n     <use xlink:href=\"#DejaVuSans-6e\" x=\"815.019531\"/>\n     <use xlink:href=\"#DejaVuSans-20\" x=\"878.398438\"/>\n     <use xlink:href=\"#DejaVuSans-61\" x=\"910.185547\"/>\n     <use xlink:href=\"#DejaVuSans-72\" x=\"971.464844\"/>\n     <use xlink:href=\"#DejaVuSans-65\" x=\"1010.328125\"/>\n     <use xlink:href=\"#DejaVuSans-61\" x=\"1071.851562\"/>\n    </g>\n   </g>\n  </g>\n  <g id=\"axes_2\">\n   <g id=\"patch_7\">\n    <path d=\"M 343.978 294.54825 \nL 357.2836 294.54825 \nL 357.2836 28.43625 \nL 343.978 28.43625 \nz\n\" style=\"fill: #ffffff\"/>\n   </g>\n   <g id=\"patch_8\">\n    <path clip-path=\"url(#pfec3b3e73a)\" style=\"fill: #ffffff; stroke: #ffffff; stroke-width: 0.01; stroke-linejoin: miter\"/>\n   </g>\n   <image xlink:href=\"data:image/png;base64,\niVBORw0KGgoAAAANSUhEUgAAABIAAAFyCAYAAAD4TYq5AAABtklEQVR4nO2b0Y3DQBBCsb3p+/pOnFwJ+ONphUZQAFp4M2tLTg7p7ydAS1qEj07ERdKSXpRRoxk1mldeNOxEgztqNK9Ge2Q0eGkbzRvlRQub7MHRDumHvGdjHdXIa+lgjMATXZQRsyFkNGbVSCOobLAjiBrWUSL+UnMaTK0Xm1cfR16l9sSoF5s36uPIaTC1XmxeidG6tE6J1NKMBnc0+G2k1Lzyoo3uqI8jp0RqgdGQjxBaWneWEdfReX0Yo/VKi3ZR1CgjMhpFLS/aSVFTmBHYkSj8gdFKzRmV2j6j4vcqtQdGpfbEiCmb64iiFjnZg6N1aTcadWmNBuPv0nrlUevSeg3G36X1yqPWpfWKxF9qRpHUit8ZjcZfakaR1IrfGQXiv6lonzhq95cxgr7Sk9SgE62Doa8F7Sz5AxSqo8BopeaNoI4So6UZdbK9OtkbjQYPZGJHnextRoMnO5FaO9pm1Mn2ypvsxGhpRp1sr072RqPBA5nYUSd7m1En22twR51sL47aOy4a9A1K6011RJ2I64iiBv0LEo2WZgRONmXUaN5o8GQ3mlVgtC6tNxqMv9GsGs3rH192uVFOf52BAAAAAElFTkSuQmCC\" id=\"image8179cbb9ea\" transform=\"scale(1 -1)translate(0 -266.4)\" x=\"344.16\" y=\"-28.08\" width=\"12.96\" height=\"266.4\"/>\n   <g id=\"matplotlib.axis_3\">\n    <g id=\"ytick_6\">\n     <g id=\"line2d_9\">\n      <defs>\n       <path id=\"m3b00482841\" d=\"M 0 0 \nL 3.5 0 \n\" style=\"stroke: #000000; stroke-width: 0.8\"/>\n      </defs>\n      <g>\n       <use xlink:href=\"#m3b00482841\" x=\"357.2836\" y=\"294.54825\" style=\"stroke: #000000; stroke-width: 0.8\"/>\n      </g>\n     </g>\n     <g id=\"text_10\">\n      <!-- 0.0 -->\n      <g transform=\"translate(364.2836 303.666375)scale(0.24 -0.24)\">\n       <defs>\n        <path id=\"DejaVuSans-2e\" d=\"M 684 794 \nL 1344 794 \nL 1344 0 \nL 684 0 \nL 684 794 \nz\n\" transform=\"scale(0.015625)\"/>\n       </defs>\n       <use xlink:href=\"#DejaVuSans-30\"/>\n       <use xlink:href=\"#DejaVuSans-2e\" x=\"63.623047\"/>\n       <use xlink:href=\"#DejaVuSans-30\" x=\"95.410156\"/>\n      </g>\n     </g>\n    </g>\n    <g id=\"ytick_7\">\n     <g id=\"line2d_10\">\n      <g>\n       <use xlink:href=\"#m3b00482841\" x=\"357.2836\" y=\"241.32585\" style=\"stroke: #000000; stroke-width: 0.8\"/>\n      </g>\n     </g>\n     <g id=\"text_11\">\n      <!-- 0.2 -->\n      <g transform=\"translate(364.2836 250.443975)scale(0.24 -0.24)\">\n       <use xlink:href=\"#DejaVuSans-30\"/>\n       <use xlink:href=\"#DejaVuSans-2e\" x=\"63.623047\"/>\n       <use xlink:href=\"#DejaVuSans-32\" x=\"95.410156\"/>\n      </g>\n     </g>\n    </g>\n    <g id=\"ytick_8\">\n     <g id=\"line2d_11\">\n      <g>\n       <use xlink:href=\"#m3b00482841\" x=\"357.2836\" y=\"188.10345\" style=\"stroke: #000000; stroke-width: 0.8\"/>\n      </g>\n     </g>\n     <g id=\"text_12\">\n      <!-- 0.4 -->\n      <g transform=\"translate(364.2836 197.221575)scale(0.24 -0.24)\">\n       <defs>\n        <path id=\"DejaVuSans-34\" d=\"M 2419 4116 \nL 825 1625 \nL 2419 1625 \nL 2419 4116 \nz\nM 2253 4666 \nL 3047 4666 \nL 3047 1625 \nL 3713 1625 \nL 3713 1100 \nL 3047 1100 \nL 3047 0 \nL 2419 0 \nL 2419 1100 \nL 313 1100 \nL 313 1709 \nL 2253 4666 \nz\n\" transform=\"scale(0.015625)\"/>\n       </defs>\n       <use xlink:href=\"#DejaVuSans-30\"/>\n       <use xlink:href=\"#DejaVuSans-2e\" x=\"63.623047\"/>\n       <use xlink:href=\"#DejaVuSans-34\" x=\"95.410156\"/>\n      </g>\n     </g>\n    </g>\n    <g id=\"ytick_9\">\n     <g id=\"line2d_12\">\n      <g>\n       <use xlink:href=\"#m3b00482841\" x=\"357.2836\" y=\"134.88105\" style=\"stroke: #000000; stroke-width: 0.8\"/>\n      </g>\n     </g>\n     <g id=\"text_13\">\n      <!-- 0.6 -->\n      <g transform=\"translate(364.2836 143.999175)scale(0.24 -0.24)\">\n       <defs>\n        <path id=\"DejaVuSans-36\" d=\"M 2113 2584 \nQ 1688 2584 1439 2293 \nQ 1191 2003 1191 1497 \nQ 1191 994 1439 701 \nQ 1688 409 2113 409 \nQ 2538 409 2786 701 \nQ 3034 994 3034 1497 \nQ 3034 2003 2786 2293 \nQ 2538 2584 2113 2584 \nz\nM 3366 4563 \nL 3366 3988 \nQ 3128 4100 2886 4159 \nQ 2644 4219 2406 4219 \nQ 1781 4219 1451 3797 \nQ 1122 3375 1075 2522 \nQ 1259 2794 1537 2939 \nQ 1816 3084 2150 3084 \nQ 2853 3084 3261 2657 \nQ 3669 2231 3669 1497 \nQ 3669 778 3244 343 \nQ 2819 -91 2113 -91 \nQ 1303 -91 875 529 \nQ 447 1150 447 2328 \nQ 447 3434 972 4092 \nQ 1497 4750 2381 4750 \nQ 2619 4750 2861 4703 \nQ 3103 4656 3366 4563 \nz\n\" transform=\"scale(0.015625)\"/>\n       </defs>\n       <use xlink:href=\"#DejaVuSans-30\"/>\n       <use xlink:href=\"#DejaVuSans-2e\" x=\"63.623047\"/>\n       <use xlink:href=\"#DejaVuSans-36\" x=\"95.410156\"/>\n      </g>\n     </g>\n    </g>\n    <g id=\"ytick_10\">\n     <g id=\"line2d_13\">\n      <g>\n       <use xlink:href=\"#m3b00482841\" x=\"357.2836\" y=\"81.65865\" style=\"stroke: #000000; stroke-width: 0.8\"/>\n      </g>\n     </g>\n     <g id=\"text_14\">\n      <!-- 0.8 -->\n      <g transform=\"translate(364.2836 90.776775)scale(0.24 -0.24)\">\n       <defs>\n        <path id=\"DejaVuSans-38\" d=\"M 2034 2216 \nQ 1584 2216 1326 1975 \nQ 1069 1734 1069 1313 \nQ 1069 891 1326 650 \nQ 1584 409 2034 409 \nQ 2484 409 2743 651 \nQ 3003 894 3003 1313 \nQ 3003 1734 2745 1975 \nQ 2488 2216 2034 2216 \nz\nM 1403 2484 \nQ 997 2584 770 2862 \nQ 544 3141 544 3541 \nQ 544 4100 942 4425 \nQ 1341 4750 2034 4750 \nQ 2731 4750 3128 4425 \nQ 3525 4100 3525 3541 \nQ 3525 3141 3298 2862 \nQ 3072 2584 2669 2484 \nQ 3125 2378 3379 2068 \nQ 3634 1759 3634 1313 \nQ 3634 634 3220 271 \nQ 2806 -91 2034 -91 \nQ 1263 -91 848 271 \nQ 434 634 434 1313 \nQ 434 1759 690 2068 \nQ 947 2378 1403 2484 \nz\nM 1172 3481 \nQ 1172 3119 1398 2916 \nQ 1625 2713 2034 2713 \nQ 2441 2713 2670 2916 \nQ 2900 3119 2900 3481 \nQ 2900 3844 2670 4047 \nQ 2441 4250 2034 4250 \nQ 1625 4250 1398 4047 \nQ 1172 3844 1172 3481 \nz\n\" transform=\"scale(0.015625)\"/>\n       </defs>\n       <use xlink:href=\"#DejaVuSans-30\"/>\n       <use xlink:href=\"#DejaVuSans-2e\" x=\"63.623047\"/>\n       <use xlink:href=\"#DejaVuSans-38\" x=\"95.410156\"/>\n      </g>\n     </g>\n    </g>\n    <g id=\"ytick_11\">\n     <g id=\"line2d_14\">\n      <g>\n       <use xlink:href=\"#m3b00482841\" x=\"357.2836\" y=\"28.43625\" style=\"stroke: #000000; stroke-width: 0.8\"/>\n      </g>\n     </g>\n     <g id=\"text_15\">\n      <!-- 1.0 -->\n      <g transform=\"translate(364.2836 37.554375)scale(0.24 -0.24)\">\n       <use xlink:href=\"#DejaVuSans-31\"/>\n       <use xlink:href=\"#DejaVuSans-2e\" x=\"63.623047\"/>\n       <use xlink:href=\"#DejaVuSans-30\" x=\"95.410156\"/>\n      </g>\n     </g>\n    </g>\n    <g id=\"text_16\">\n     <!-- 1e9 -->\n     <g transform=\"translate(311.9761 25.43625)scale(0.24 -0.24)\">\n      <defs>\n       <path id=\"DejaVuSans-39\" d=\"M 703 97 \nL 703 672 \nQ 941 559 1184 500 \nQ 1428 441 1663 441 \nQ 2288 441 2617 861 \nQ 2947 1281 2994 2138 \nQ 2813 1869 2534 1725 \nQ 2256 1581 1919 1581 \nQ 1219 1581 811 2004 \nQ 403 2428 403 3163 \nQ 403 3881 828 4315 \nQ 1253 4750 1959 4750 \nQ 2769 4750 3195 4129 \nQ 3622 3509 3622 2328 \nQ 3622 1225 3098 567 \nQ 2575 -91 1691 -91 \nQ 1453 -91 1209 -44 \nQ 966 3 703 97 \nz\nM 1959 2075 \nQ 2384 2075 2632 2365 \nQ 2881 2656 2881 3163 \nQ 2881 3666 2632 3958 \nQ 2384 4250 1959 4250 \nQ 1534 4250 1286 3958 \nQ 1038 3666 1038 3163 \nQ 1038 2656 1286 2365 \nQ 1534 2075 1959 2075 \nz\n\" transform=\"scale(0.015625)\"/>\n      </defs>\n      <use xlink:href=\"#DejaVuSans-31\"/>\n      <use xlink:href=\"#DejaVuSans-65\" x=\"63.623047\"/>\n      <use xlink:href=\"#DejaVuSans-39\" x=\"125.146484\"/>\n     </g>\n    </g>\n   </g>\n   <g id=\"LineCollection_1\"/>\n   <g id=\"patch_9\">\n    <path d=\"M 343.978 294.54825 \nL 350.6308 294.54825 \nL 357.2836 294.54825 \nL 357.2836 28.43625 \nL 350.6308 28.43625 \nL 343.978 28.43625 \nL 343.978 294.54825 \nz\n\" style=\"fill: none; stroke: #000000; stroke-width: 0.8; stroke-linejoin: miter; stroke-linecap: square\"/>\n   </g>\n  </g>\n </g>\n <defs>\n  <clipPath id=\"p0c43386539\">\n   <rect x=\"60.01\" y=\"28.43625\" width=\"266.112\" height=\"266.112\"/>\n  </clipPath>\n  <clipPath id=\"pfec3b3e73a\">\n   <rect x=\"343.978\" y=\"28.43625\" width=\"13.3056\" height=\"266.112\"/>\n  </clipPath>\n </defs>\n</svg>\n",
      "text/plain": [
       "<Figure size 640x480 with 2 Axes>"
      ]
     },
     "metadata": {},
     "output_type": "display_data"
    }
   ],
   "source": [
    "#################### Create field #####£###############\n",
    "input_shape = (1,nz,ny,nx,1)\n",
    "values_u = tf.zeros(input_shape)\n",
    "values_v = tf.zeros(input_shape)\n",
    "values_w = tf.zeros(input_shape)\n",
    "values_p = tf.zeros(input_shape)\n",
    "#######################################################\n",
    "################# Numerical parameters ################\n",
    "multi_itr = 5               # Iterations of multi-grid \n",
    "j_itr = 1                   # Iterations of Jacobi \n",
    "ntime = 10                 # Time steps (fewer timesteps)\n",
    "n_out = 500                 # Results output\n",
    "nrestart = 0                # Last time step for restart\n",
    "ctime_old = 0               # Last ctime for restart\n",
    "mgsolver = True             # Multigrid solver\n",
    "LSCALAR = False              # Scalar transport \n",
    "LMTI = False                 # Non density for multiphase flows\n",
    "LIBM = True                # Immersed boundary method \n",
    "nsafe = 0.5                 # Continuty equation residuals\n",
    "ctime = 0                   # Initialise ctime   \n",
    "save_fig = True             # Save results\n",
    "Restart = False             # Restart\n",
    "eplsion_k = 1e-03\n",
    "################# Physical parameters #################\n",
    "rho_l = 1000                # Density of liquid phase \n",
    "rho_g = 980                 # Density of gas phase \n",
    "g_x = 0;g_y = 0;g_z = -9.8   # Gravity acceleration (m/s2) \n",
    "#######################################################\n",
    "print('============== Numerical parameters ===============')\n",
    "print('Mesh resolution:', values_v.shape)\n",
    "print('Time step:', ntime)\n",
    "print('Initial time:', ctime)\n",
    "#######################################################\n",
    "# Eliminated codes that are not relevant\n",
    "################# Only for IBM ########################\n",
    "if LIBM == True:\n",
    "    # mesh = np.load('INHALE_1280.npy')\n",
    "    mesh = np.load('master/mesh_64_sk.npy')\n",
    "    sigma = np.zeros(input_shape).astype('float32')\n",
    "    for i in range(1,nx-1):\n",
    "        for j in range(1,ny-1):\n",
    "            for k in range(1,nz-1):\n",
    "                if mesh[0][i][j][k][0] == 0:\n",
    "                    sigma[0][k][j][i][0] = 1000000000  \n",
    "    sigma = tf.convert_to_tensor(sigma)\n",
    "    print('Switch on IBM solver!')\n",
    "    print('===================================================')\n",
    "    plt.imshow(sigma[0,1,:,:,0], cmap='jet')\n",
    "    plt.colorbar()\n",
    "    plt.title('South Kensington area')\n",
    "    plt.gca().invert_yaxis()\n",
    "#######################################################"
   ]
  },
  {
   "cell_type": "markdown",
   "id": "a53264d8",
   "metadata": {},
   "source": [
    "# AI-HFM Solver"
   ]
  },
  {
   "cell_type": "code",
   "execution_count": 52,
   "id": "f450d7a2",
   "metadata": {
    "colab": {
     "background_save": true,
     "base_uri": "https://localhost:8080/"
    },
    "id": "53475e81",
    "outputId": "42345c26-8774-4985-ad3f-48f3cd6f1ea9",
    "scrolled": true
   },
   "outputs": [
    {
     "ename": "NameError",
     "evalue": "name 'CNN3D_A_256' is not defined",
     "output_type": "error",
     "traceback": [
      "\u001b[0;31m---------------------------------------------------------------------------\u001b[0m",
      "\u001b[0;31mNameError\u001b[0m                                 Traceback (most recent call last)",
      "\u001b[1;32m/Users/shuheng-mo/Desktop/simultas/examples/INHALE_demo.ipynb Cell 25\u001b[0m in \u001b[0;36m<cell line: 2>\u001b[0;34m()\u001b[0m\n\u001b[1;32m     <a href='vscode-notebook-cell:/Users/shuheng-mo/Desktop/simultas/examples/INHALE_demo.ipynb#X33sZmlsZQ%3D%3D?line=67'>68</a>\u001b[0m         \u001b[39mfor\u001b[39;00m multi_grid \u001b[39min\u001b[39;00m \u001b[39mrange\u001b[39m(multi_itr): \n\u001b[1;32m     <a href='vscode-notebook-cell:/Users/shuheng-mo/Desktop/simultas/examples/INHALE_demo.ipynb#X33sZmlsZQ%3D%3D?line=68'>69</a>\u001b[0m             \u001b[39m# compute the residual\u001b[39;00m\n\u001b[1;32m     <a href='vscode-notebook-cell:/Users/shuheng-mo/Desktop/simultas/examples/INHALE_demo.ipynb#X33sZmlsZQ%3D%3D?line=69'>70</a>\u001b[0m             w_1 \u001b[39m=\u001b[39m tf\u001b[39m.\u001b[39mzeros([\u001b[39m1\u001b[39m,\u001b[39m1\u001b[39m,ratio,ratio,\u001b[39m1\u001b[39m])\n\u001b[0;32m---> <a href='vscode-notebook-cell:/Users/shuheng-mo/Desktop/simultas/examples/INHALE_demo.ipynb#X33sZmlsZQ%3D%3D?line=70'>71</a>\u001b[0m             r \u001b[39m=\u001b[39m CNN3D_A_256(values_p) \u001b[39m-\u001b[39m b   \n\u001b[1;32m     <a href='vscode-notebook-cell:/Users/shuheng-mo/Desktop/simultas/examples/INHALE_demo.ipynb#X33sZmlsZQ%3D%3D?line=71'>72</a>\u001b[0m             r \u001b[39m=\u001b[39m tf\u001b[39m.\u001b[39mVariable(r)[\u001b[39m0\u001b[39m,:,:,nx\u001b[39m-\u001b[39m\u001b[39m1\u001b[39m,\u001b[39m0\u001b[39m]\u001b[39m.\u001b[39massign(tf\u001b[39m.\u001b[39mVariable(tf\u001b[39m.\u001b[39mzeros((\u001b[39m1\u001b[39m,nz,ny)))[\u001b[39m0\u001b[39m,:]) \n\u001b[1;32m     <a href='vscode-notebook-cell:/Users/shuheng-mo/Desktop/simultas/examples/INHALE_demo.ipynb#X33sZmlsZQ%3D%3D?line=72'>73</a>\u001b[0m \u001b[39m#             r_256 = CNN3D_res_512(r) \u001b[39;00m\n",
      "\u001b[0;31mNameError\u001b[0m: name 'CNN3D_A_256' is not defined"
     ]
    }
   ],
   "source": [
    "start = time.time()\n",
    "for itime in range(1,ntime+1): \n",
    "    ctime = ctime + dt \n",
    "    [values_u,values_v,values_w] = boundary_condition_velocity(values_u,values_v,values_w)\n",
    "    values_p = boundary_condition_pressure(values_p,nx)\n",
    "    # Petrov-Galerkin dissipation\n",
    "    [k_x,k_y,k_z] = Petrov_Galerkin_dissipation(values_u, values_v, values_w, eplsion_k, sigma)\n",
    "    # Momentum equation \n",
    "    a_u = k_x - \\\n",
    "    values_u*CNN3D_central_2nd_xadv(values_u) - \\\n",
    "    values_v*CNN3D_central_2nd_yadv(values_u) - \\\n",
    "    values_w*CNN3D_central_2nd_zadv(values_u)\n",
    "    b_u = 0.5*a_u + values_u\n",
    "    a_v = k_y - \\\n",
    "    values_u*CNN3D_central_2nd_xadv(values_v) - \\\n",
    "    values_v*CNN3D_central_2nd_yadv(values_v) - \\\n",
    "    values_w*CNN3D_central_2nd_zadv(values_v)\n",
    "    b_v = 0.5*a_v + values_v\n",
    "    a_w = k_z - \\\n",
    "    values_u*CNN3D_central_2nd_xadv(values_w) - \\\n",
    "    values_v*CNN3D_central_2nd_yadv(values_w) - \\\n",
    "    values_w*CNN3D_central_2nd_zadv(values_w) \n",
    "    b_w = 0.5*a_w + values_w\n",
    "\n",
    "    [b_u,b_v,b_w] = boundary_condition_velocity(b_u,b_v,b_w)\n",
    "    [kb_x,kb_y,kb_z] = Petrov_Galerkin_dissipation(b_u, b_v, b_w, eplsion_k, sigma)\n",
    "\n",
    "    c_u = kb_x - \\\n",
    "    b_u*CNN3D_central_2nd_xadv(b_u) - \\\n",
    "    b_v*CNN3D_central_2nd_yadv(b_u) - \\\n",
    "    b_w*CNN3D_central_2nd_zadv(b_u)\n",
    "    values_u = values_u + c_u      \n",
    "    c_v = kb_y - \\\n",
    "    b_u*CNN3D_central_2nd_xadv(b_v) - \\\n",
    "    b_v*CNN3D_central_2nd_yadv(b_v) - \\\n",
    "    b_w*CNN3D_central_2nd_zadv(b_v) \n",
    "    values_v = values_v + c_v\n",
    "    c_w = kb_z - \\\n",
    "    b_u*CNN3D_central_2nd_xadv(b_w) - \\\n",
    "    b_v*CNN3D_central_2nd_yadv(b_w) - \\\n",
    "    b_w*CNN3D_central_2nd_zadv(b_w) \n",
    "    values_w = values_w + c_w    \n",
    "    # Passive tracer scalar transport\n",
    "    if LSCALAR == True:\n",
    "        a_t = CNN3D_central_2nd_dif(alpha) - \\\n",
    "        values_u*CNN3D_central_2nd_xadv(alpha) - \\\n",
    "        values_v*CNN3D_central_2nd_yadv(alpha) - \\\n",
    "        values_w*CNN3D_central_2nd_zadv(alpha)\n",
    "        alpha = alpha + a_t\n",
    "        alpha = boundary_condition_indicator(alpha,nx)\n",
    "    if LMTI == True:\n",
    "        rho = alpha*rho_l + (1-alpha)*rho_g\n",
    "    # IBM\n",
    "    # if LIBM == True:\n",
    "    [values_u,values_v,values_w] = bluff_body(values_u,values_v,values_w,sigma)\n",
    "    # gradp            \n",
    "    values_u = values_u - CNN3D_central_2nd_xadv(values_p)\n",
    "    values_v = values_v - CNN3D_central_2nd_yadv(values_p)  \n",
    "    values_w = values_w - CNN3D_central_2nd_zadv(values_p)     \n",
    "    [values_u,values_v,values_w] = boundary_condition_velocity(values_u,values_v,values_w)\n",
    "    \n",
    "    # possion equation (multi-grid) A*P = Su\n",
    "    b = -(CNN3D_Su(values_u) + CNN3D_Sv(values_v) + CNN3D_Sw(values_w))\n",
    "    b = boundary_condition_source(b,nx)\n",
    "    \n",
    "    # the multi-grid process\n",
    "    if mgsolver == True:\n",
    "        for multi_grid in range(multi_itr): \n",
    "            # compute the residual\n",
    "            w_1 = tf.zeros([1,1,ratio,ratio,1])\n",
    "            r = CNN3D_A_256(values_p) - b   \n",
    "            r = tf.Variable(r)[0,:,:,nx-1,0].assign(tf.Variable(tf.zeros((1,nz,ny)))[0,:]) \n",
    "#             r_256 = CNN3D_res_512(r) \n",
    "            r_128 = CNN3D_res_256(r) \n",
    "            r_64 = CNN3D_res_128(r_128) \n",
    "            r_32 = CNN3D_res_64(r_64) \n",
    "            r_16 = CNN3D_res_32(r_32) \n",
    "            r_8 = CNN3D_res_16(r_16) \n",
    "            r_4 = CNN3D_res_8(r_8) \n",
    "            r_2 = CNN3D_res_4(r_4) \n",
    "            r_1 = CNN3D_res_2(r_2)\n",
    "            \n",
    "            for Jacobi in range(j_itr):\n",
    "                w_1 = (w_1 - CNN3D_A_1(w_1)/w5[0,1,1,1,0] + r_1/w5[0,1,1,1,0])\n",
    "            w_2 = CNN3D_prol_1(w_1)             \n",
    "            for Jacobi in range(j_itr):\n",
    "                w_2 = (w_2 - CNN3D_A_2(w_2)/w5[0,1,1,1,0] + r_2/w5[0,1,1,1,0])\n",
    "            w_4 = CNN3D_prol_2(w_2) \n",
    "            for Jacobi in range(j_itr):\n",
    "                w_4 = (w_4 - CNN3D_A_4(w_4)/w5[0,1,1,1,0] + r_4/w5[0,1,1,1,0])\n",
    "            w_8 = CNN3D_prol_4(w_4) \n",
    "            for Jacobi in range(j_itr):\n",
    "                w_8 = (w_8 - CNN3D_A_8(w_8)/w5[0,1,1,1,0] + r_8/w5[0,1,1,1,0])\n",
    "            w_16 = CNN3D_prol_8(w_8) \n",
    "            for Jacobi in range(j_itr):\n",
    "                w_16 = (w_16 - CNN3D_A_16(w_16)/w5[0,1,1,1,0] + r_16/w5[0,1,1,1,0])\n",
    "            w_32 = CNN3D_prol_16(w_16) \n",
    "            for Jacobi in range(j_itr):\n",
    "                w_32 = (w_32 - CNN3D_A_32(w_32)/w5[0,1,1,1,0] + r_32/w5[0,1,1,1,0])\n",
    "            w_64 = CNN3D_prol_32(w_32) \n",
    "            for Jacobi in range(j_itr):\n",
    "                w_64 = (w_64 - CNN3D_A_64(w_64)/w5[0,1,1,1,0] + r_64/w5[0,1,1,1,0])\n",
    "            w_128 = CNN3D_prol_64(w_64) \n",
    "            for Jacobi in range(j_itr):\n",
    "                w_128 = (w_128 - CNN3D_A_128(w_128)/w5[0,1,1,1,0] + r_128/w5[0,1,1,1,0] )\n",
    "            w_256 = CNN3D_prol_128(w_128)\n",
    "#             for Jacobi in range(j_itr):\n",
    "#                 w_256 = (w_256 - CNN3D_A_256(w_256)/w5[0,1,1,1,0] + r_256/w5[0,1,1,1,0] )\n",
    "#             w_512 = CNN3D_prol_256(w_256)\n",
    "            values_p = values_p - w_256\n",
    "            values_p = tf.Variable(values_p)[0,:,:,nx-1,0].assign(tf.Variable(tf.zeros((1,nz,ny)))[0,:])         \n",
    "            values_p = (values_p - CNN3D_A_256(values_p)/w5[0,1,1,1,0] + b/w5[0,1,1,1,0])          \n",
    "# correct\n",
    "    values_p = boundary_condition_pressure(values_p,nx)\n",
    "    values_u = values_u - CNN3D_central_2nd_xadv(values_p)\n",
    "    values_v = values_v - CNN3D_central_2nd_yadv(values_p)  \n",
    "    values_w = values_w - CNN3D_central_2nd_zadv(values_p)      \n",
    "    [values_u,values_v,values_w] = boundary_condition_velocity(values_u,values_v,values_w)\n",
    "#     if LIBM == True:\n",
    "    [values_u,values_v,values_w] = bluff_body(values_u,values_v,values_w,sigma)\n",
    "# output   \n",
    "    print('Time step:', itime) \n",
    "    print('Pressure error:', np.max(w_256), 'cty equation residual:', np.max(r))\n",
    "    print('========================================================')\n",
    "    if np.max(np.abs(w_256)) > nsafe:\n",
    "        print('Not converged !!!!!!')\n",
    "        break\n",
    "    if save_fig == True:\n",
    "        save_data(n_out,itime+nrestart)\n",
    "end = time.time()\n",
    "print('time',(end-start))"
   ]
  },
  {
   "cell_type": "code",
   "execution_count": null,
   "id": "ba93e3db",
   "metadata": {},
   "outputs": [],
   "source": [
    "mag = (values_u**2+values_v**2+values_w**2)**0.5\n",
    "fig, axs = plt.subplots(2, 2, figsize=(40, 20))\n",
    "\n",
    "\n",
    "plt.subplot(2,2,1)\n",
    "plt.imshow((mag)[0,:,:,5,0], cmap='RdBu', vmin=0, vmax=1.5)\n",
    "# plt.colorbar()\n",
    "plt.axis('off') \n",
    "plt.title('Z=5m new', fontsize=40)\n",
    "plt.gca().invert_yaxis()\n",
    "plt.subplot(2,2,2)\n",
    "plt.imshow((mag)[0,:,:,15,0], cmap='RdBu', vmin=0, vmax=1.5)\n",
    "# plt.colorbar()\n",
    "plt.axis('off') \n",
    "plt.title('Z=15m new', fontsize=40)\n",
    "plt.gca().invert_yaxis()\n",
    "\n",
    "plt.subplot(2,2,3)\n",
    "plt.imshow((mag)[0,:,:,25,0], cmap='RdBu', vmin=0, vmax=1.5)\n",
    "# plt.colorbar()\n",
    "plt.axis('off') \n",
    "plt.title('Z=25m new', fontsize=40)\n",
    "plt.gca().invert_yaxis()\n",
    "\n",
    "plt.subplot(2,2,4)\n",
    "plt.imshow((mag)[0,:,:,35,0], cmap='RdBu', vmin=0, vmax=1.5)\n",
    "# plt.colorbar()\n",
    "plt.axis('off') \n",
    "plt.title('Z=35m new', fontsize=40)\n",
    "plt.gca().invert_yaxis()"
   ]
  }
 ],
 "metadata": {
  "accelerator": "GPU",
  "colab": {
   "name": "Naiver_Stokes_SK_GPU.ipynb",
   "provenance": []
  },
  "gpuClass": "standard",
  "kernelspec": {
   "display_name": "Python 3 (ipykernel)",
   "language": "python",
   "name": "python3"
  },
  "language_info": {
   "codemirror_mode": {
    "name": "ipython",
    "version": 3
   },
   "file_extension": ".py",
   "mimetype": "text/x-python",
   "name": "python",
   "nbconvert_exporter": "python",
   "pygments_lexer": "ipython3",
   "version": "3.10.4"
  },
  "vscode": {
   "interpreter": {
    "hash": "892dda1b062199deaced8d71adfbdfeb6efdf7458e256b932f20952cd36a0172"
   }
  }
 },
 "nbformat": 4,
 "nbformat_minor": 5
}
