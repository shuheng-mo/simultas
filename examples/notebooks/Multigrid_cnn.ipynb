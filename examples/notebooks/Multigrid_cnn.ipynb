{
 "cells": [
  {
   "cell_type": "code",
   "execution_count": 1,
   "metadata": {},
   "outputs": [],
   "source": [
    "# Python ≥3.5 is required\n",
    "import sys\n",
    "assert sys.version_info >= (3, 5)\n",
    "\n",
    "# Scikit-Learn ≥0.20 is required\n",
    "import sklearn\n",
    "assert sklearn.__version__ >= \"0.20\"\n",
    "\n",
    "# TensorFlow ≥2.0 is required\n",
    "import tensorflow as tf\n",
    "from tensorflow import keras\n",
    "assert tf.__version__ >= \"2.0\"\n",
    "\n",
    "# Common imports\n",
    "import numpy as np\n",
    "import os\n",
    "\n",
    "# To plot pretty figures\n",
    "%matplotlib inline\n",
    "import matplotlib as mpl\n",
    "import matplotlib.pyplot as plt\n",
    "mpl.rc('axes', labelsize=14)\n",
    "mpl.rc('xtick', labelsize=12)\n",
    "mpl.rc('ytick', labelsize=12)\n",
    "\n",
    "import pandas as pd\n",
    "import math\n",
    "\n",
    "from scipy.stats import multivariate_normal\n",
    "from mpl_toolkits.mplot3d import Axes3D"
   ]
  },
  {
   "cell_type": "markdown",
   "metadata": {},
   "source": [
    "# Create CNNs"
   ]
  },
  {
   "cell_type": "code",
   "execution_count": 2,
   "metadata": {},
   "outputs": [],
   "source": [
    "# the weights matrix\n",
    "alpha = 1 # relaxation coefficient for Jacobi iteration (from 0 to 1)\n",
    "nx = 128\n",
    "ny = 128\n",
    "w1 = np.zeros([1,2,2,1])\n",
    "w1[0][:][:][0] = 0.25\n",
    "w2 = np.zeros([1,2,2,1])\n",
    "w2[0][:][:][0] = 1.0\n",
    "\n",
    "w3 = ([[[[0.0],        # A matrix \n",
    "         [-1.5],\n",
    "         [0.0]],\n",
    "\n",
    "        [[-51.5],\n",
    "         [107],\n",
    "         [-1.5]],\n",
    "\n",
    "        [[0.0],\n",
    "         [-51.5],\n",
    "         [0.0]]]])\n",
    "\n",
    "w4 = ([[[[0.0],        # bias matrix\n",
    "         [0.0],\n",
    "         [0.0]],\n",
    "\n",
    "        [[0.0],\n",
    "         [1/107],\n",
    "         [0.0]],\n",
    "\n",
    "        [[0.0],\n",
    "         [0.0],\n",
    "         [0.0]]]])"
   ]
  },
  {
   "cell_type": "markdown",
   "metadata": {},
   "source": [
    "### Weights of layers"
   ]
  },
  {
   "cell_type": "code",
   "execution_count": 3,
   "metadata": {},
   "outputs": [],
   "source": [
    "init_kernel_1 = w1 \n",
    "init_kernel_2 = w2\n",
    "init_kernel_3 = w3\n",
    "init_kernel_4 = w4\n",
    "init_bias = np.zeros((1,)) \n",
    "kernel_initializer_1 = tf.keras.initializers.constant(init_kernel_1)\n",
    "kernel_initializer_2 = tf.keras.initializers.constant(init_kernel_2)\n",
    "kernel_initializer_3 = tf.keras.initializers.constant(init_kernel_3)\n",
    "kernel_initializer_4 = tf.keras.initializers.constant(init_kernel_4)\n",
    "bias_initializer = tf.keras.initializers.constant(init_bias)"
   ]
  },
  {
   "cell_type": "markdown",
   "metadata": {},
   "source": [
    "### Jacobi weights"
   ]
  },
  {
   "cell_type": "code",
   "execution_count": 4,
   "metadata": {},
   "outputs": [],
   "source": [
    "CNN2D_bias_128 = keras.models.Sequential([\n",
    "         keras.layers.InputLayer(input_shape=(nx, ny, 1)),\n",
    "         tf.keras.layers.Conv2D(1, kernel_size=3, strides=1, padding='SAME',         # bias matrix \n",
    "                                kernel_initializer=kernel_initializer_4,\n",
    "                                bias_initializer=bias_initializer),\n",
    "])\n",
    "\n",
    "CNN2D_bias_64 = keras.models.Sequential([\n",
    "         keras.layers.InputLayer(input_shape=(64, 64, 1)),\n",
    "         tf.keras.layers.Conv2D(1, kernel_size=3, strides=1, padding='SAME',         # bias matrix \n",
    "                                kernel_initializer=kernel_initializer_4,\n",
    "                                bias_initializer=bias_initializer),\n",
    "])\n",
    "\n",
    "CNN2D_bias_32 = keras.models.Sequential([\n",
    "         keras.layers.InputLayer(input_shape=(32, 32, 1)),\n",
    "         tf.keras.layers.Conv2D(1, kernel_size=3, strides=1, padding='SAME',         # bias matrix \n",
    "                                kernel_initializer=kernel_initializer_4,\n",
    "                                bias_initializer=bias_initializer),\n",
    "])\n",
    "\n",
    "CNN2D_bias_16 = keras.models.Sequential([\n",
    "         keras.layers.InputLayer(input_shape=(16, 16, 1)),\n",
    "         tf.keras.layers.Conv2D(1, kernel_size=3, strides=1, padding='SAME',         # bias matrix \n",
    "                                kernel_initializer=kernel_initializer_4,\n",
    "                                bias_initializer=bias_initializer),\n",
    "])\n",
    "\n",
    "CNN2D_bias_8 = keras.models.Sequential([\n",
    "         keras.layers.InputLayer(input_shape=(8, 8, 1)),\n",
    "         tf.keras.layers.Conv2D(1, kernel_size=3, strides=1, padding='SAME',         # bias matrix \n",
    "                                kernel_initializer=kernel_initializer_4,\n",
    "                                bias_initializer=bias_initializer),\n",
    "])\n",
    "\n",
    "CNN2D_bias_4 = keras.models.Sequential([\n",
    "         keras.layers.InputLayer(input_shape=(4, 4, 1)),\n",
    "         tf.keras.layers.Conv2D(1, kernel_size=3, strides=1, padding='SAME',         # bias matrix \n",
    "                                kernel_initializer=kernel_initializer_4,\n",
    "                                bias_initializer=bias_initializer),\n",
    "])\n",
    "\n",
    "CNN2D_bias_2 = keras.models.Sequential([\n",
    "         keras.layers.InputLayer(input_shape=(2, 2, 1)),\n",
    "         tf.keras.layers.Conv2D(1, kernel_size=3, strides=1, padding='SAME',         # bias matrix \n",
    "                                kernel_initializer=kernel_initializer_4,\n",
    "                                bias_initializer=bias_initializer),\n",
    "])\n",
    "\n",
    "CNN2D_bias_1 = keras.models.Sequential([\n",
    "         keras.layers.InputLayer(input_shape=(1, 1, 1)),\n",
    "         tf.keras.layers.Conv2D(1, kernel_size=3, strides=1, padding='SAME',         # bias matrix \n",
    "                                kernel_initializer=kernel_initializer_4,\n",
    "                                bias_initializer=bias_initializer),\n",
    "])\n"
   ]
  },
  {
   "cell_type": "markdown",
   "metadata": {},
   "source": [
    "### A matrix "
   ]
  },
  {
   "cell_type": "code",
   "execution_count": 5,
   "metadata": {},
   "outputs": [],
   "source": [
    "CNN2D_A_128 = keras.models.Sequential([\n",
    "         keras.layers.InputLayer(input_shape=(nx, ny, 1)),\n",
    "         tf.keras.layers.Conv2D(1, kernel_size=3, strides=1, padding='SAME',         # A matrix\n",
    "                                kernel_initializer=kernel_initializer_3,\n",
    "                                bias_initializer=bias_initializer),\n",
    "])\n",
    "\n",
    "CNN2D_A_64 = keras.models.Sequential([\n",
    "         keras.layers.InputLayer(input_shape=(64, 64, 1)),\n",
    "         tf.keras.layers.Conv2D(1, kernel_size=3, strides=1, padding='SAME',         # A matrix\n",
    "                                kernel_initializer=kernel_initializer_3,\n",
    "                                bias_initializer=bias_initializer),\n",
    "])\n",
    "\n",
    "CNN2D_A_32 = keras.models.Sequential([\n",
    "         keras.layers.InputLayer(input_shape=(32, 32, 1)),\n",
    "         tf.keras.layers.Conv2D(1, kernel_size=3, strides=1, padding='SAME',         # A matrix\n",
    "                                kernel_initializer=kernel_initializer_3,\n",
    "                                bias_initializer=bias_initializer),\n",
    "])\n",
    "\n",
    "CNN2D_A_16 = keras.models.Sequential([\n",
    "         keras.layers.InputLayer(input_shape=(16, 16, 1)),\n",
    "         tf.keras.layers.Conv2D(1, kernel_size=3, strides=1, padding='SAME',         # A matrix\n",
    "                                kernel_initializer=kernel_initializer_3,\n",
    "                                bias_initializer=bias_initializer),\n",
    "])\n",
    "\n",
    "CNN2D_A_8 = keras.models.Sequential([\n",
    "         keras.layers.InputLayer(input_shape=(8, 8, 1)),\n",
    "         tf.keras.layers.Conv2D(1, kernel_size=3, strides=1, padding='SAME',         # A matrix\n",
    "                                kernel_initializer=kernel_initializer_3,\n",
    "                                bias_initializer=bias_initializer),\n",
    "])\n",
    "\n",
    "CNN2D_A_4 = keras.models.Sequential([\n",
    "         keras.layers.InputLayer(input_shape=(4, 4, 1)),\n",
    "         tf.keras.layers.Conv2D(1, kernel_size=3, strides=1, padding='SAME',         # A matrix\n",
    "                                kernel_initializer=kernel_initializer_3,\n",
    "                                bias_initializer=bias_initializer),\n",
    "])\n",
    "\n",
    "CNN2D_A_2 = keras.models.Sequential([\n",
    "         keras.layers.InputLayer(input_shape=(2, 2, 1)),\n",
    "         tf.keras.layers.Conv2D(1, kernel_size=3, strides=1, padding='SAME',         # A matrix\n",
    "                                kernel_initializer=kernel_initializer_3,\n",
    "                                bias_initializer=bias_initializer),\n",
    "])\n",
    "\n",
    "CNN2D_A_1 = keras.models.Sequential([\n",
    "         keras.layers.InputLayer(input_shape=(1, 1, 1)),\n",
    "         tf.keras.layers.Conv2D(1, kernel_size=3, strides=1, padding='SAME',         # A matrix\n",
    "                                kernel_initializer=kernel_initializer_3,\n",
    "                                bias_initializer=bias_initializer),\n",
    "])"
   ]
  },
  {
   "cell_type": "markdown",
   "metadata": {},
   "source": [
    "### Restriction"
   ]
  },
  {
   "cell_type": "code",
   "execution_count": 6,
   "metadata": {},
   "outputs": [],
   "source": [
    "CNN2D_res_128 = keras.models.Sequential([\n",
    "         keras.layers.InputLayer(input_shape=(nx, ny, 1)),\n",
    "         tf.keras.layers.Conv2D(1, kernel_size=2, strides=2, padding='VALID',  # restriction\n",
    "                                kernel_initializer=kernel_initializer_1,\n",
    "                                bias_initializer=bias_initializer),   \n",
    "])    \n",
    "CNN2D_res_64 = keras.models.Sequential([\n",
    "         keras.layers.InputLayer(input_shape=(64, 64, 1)),\n",
    "         tf.keras.layers.Conv2D(1, kernel_size=2, strides=2, padding='VALID',  # restriction\n",
    "                                kernel_initializer=kernel_initializer_1,\n",
    "                                bias_initializer=bias_initializer),  \n",
    "])\n",
    "CNN2D_res_32 = keras.models.Sequential([\n",
    "         keras.layers.InputLayer(input_shape=(32, 32, 1)),\n",
    "         tf.keras.layers.Conv2D(1, kernel_size=2, strides=2, padding='VALID',  # restriction\n",
    "                                kernel_initializer=kernel_initializer_1,\n",
    "                                bias_initializer=bias_initializer), \n",
    "])\n",
    "CNN2D_res_16 = keras.models.Sequential([\n",
    "         keras.layers.InputLayer(input_shape=(16, 16, 1)),\n",
    "         tf.keras.layers.Conv2D(1, kernel_size=2, strides=2, padding='VALID',  # restriction\n",
    "                                kernel_initializer=kernel_initializer_1,\n",
    "                                bias_initializer=bias_initializer), \n",
    "])\n",
    "CNN2D_res_8 = keras.models.Sequential([\n",
    "         keras.layers.InputLayer(input_shape=(8, 8, 1)),\n",
    "         tf.keras.layers.Conv2D(1, kernel_size=2, strides=2, padding='VALID',  # restriction\n",
    "                                kernel_initializer=kernel_initializer_1,\n",
    "                                bias_initializer=bias_initializer),\n",
    "])\n",
    "CNN2D_res_4 = keras.models.Sequential([\n",
    "         keras.layers.InputLayer(input_shape=(4, 4, 1)),\n",
    "         tf.keras.layers.Conv2D(1, kernel_size=2, strides=2, padding='VALID',  # restriction\n",
    "                                kernel_initializer=kernel_initializer_1,\n",
    "                                bias_initializer=bias_initializer),\n",
    "])\n",
    "CNN2D_res_2 = keras.models.Sequential([\n",
    "         keras.layers.InputLayer(input_shape=(2, 2, 1)),\n",
    "         tf.keras.layers.Conv2D(1, kernel_size=2, strides=2, padding='VALID',  # restriction\n",
    "                                kernel_initializer=kernel_initializer_1,\n",
    "                                bias_initializer=bias_initializer),\n",
    "])"
   ]
  },
  {
   "cell_type": "markdown",
   "metadata": {},
   "source": [
    "### Prolongation"
   ]
  },
  {
   "cell_type": "code",
   "execution_count": 7,
   "metadata": {},
   "outputs": [
    {
     "name": "stdout",
     "output_type": "stream",
     "text": [
      "Model: \"sequential_23\"\n",
      "_________________________________________________________________\n",
      "Layer (type)                 Output Shape              Param #   \n",
      "=================================================================\n",
      "up_sampling2d (UpSampling2D) (None, 2, 2, 1)           0         \n",
      "_________________________________________________________________\n",
      "conv2d_23 (Conv2D)           (None, 2, 2, 1)           5         \n",
      "=================================================================\n",
      "Total params: 5\n",
      "Trainable params: 5\n",
      "Non-trainable params: 0\n",
      "_________________________________________________________________\n"
     ]
    }
   ],
   "source": [
    "CNN2D_prol_1 = keras.models.Sequential([\n",
    "         keras.layers.InputLayer(input_shape=(1, 1, 1)),\n",
    "         tf.keras.layers.UpSampling2D(size=(2, 2)),\n",
    "         tf.keras.layers.Conv2D(1, kernel_size=2, strides=1, padding='SAME',  # prolongation\n",
    "                                kernel_initializer=kernel_initializer_2,\n",
    "                                bias_initializer=bias_initializer),   \n",
    "])\n",
    "\n",
    "CNN2D_prol_2 = keras.models.Sequential([\n",
    "         keras.layers.InputLayer(input_shape=(2, 2, 1)),\n",
    "         tf.keras.layers.UpSampling2D(size=(2, 2)),\n",
    "         tf.keras.layers.Conv2D(1, kernel_size=2, strides=1, padding='SAME',  # prolongation\n",
    "                                kernel_initializer=kernel_initializer_2,\n",
    "                                bias_initializer=bias_initializer),   \n",
    "])\n",
    "\n",
    "CNN2D_prol_4 = keras.models.Sequential([\n",
    "         keras.layers.InputLayer(input_shape=(4, 4, 1)),\n",
    "         tf.keras.layers.UpSampling2D(size=(2, 2)),\n",
    "         tf.keras.layers.Conv2D(1, kernel_size=2, strides=1, padding='SAME',  # prolongation\n",
    "                                kernel_initializer=kernel_initializer_2,\n",
    "                                bias_initializer=bias_initializer),   \n",
    "])\n",
    "\n",
    "CNN2D_prol_8 = keras.models.Sequential([\n",
    "         keras.layers.InputLayer(input_shape=(8, 8, 1)),\n",
    "         tf.keras.layers.UpSampling2D(size=(2, 2)),\n",
    "         tf.keras.layers.Conv2D(1, kernel_size=2, strides=1, padding='SAME',  # prolongation\n",
    "                                kernel_initializer=kernel_initializer_2,\n",
    "                                bias_initializer=bias_initializer),   \n",
    "])\n",
    "\n",
    "CNN2D_prol_16 = keras.models.Sequential([\n",
    "         keras.layers.InputLayer(input_shape=(16, 16, 1)),\n",
    "         tf.keras.layers.UpSampling2D(size=(2, 2)),\n",
    "         tf.keras.layers.Conv2D(1, kernel_size=2, strides=1, padding='SAME',  # prolongation\n",
    "                                kernel_initializer=kernel_initializer_2,\n",
    "                                bias_initializer=bias_initializer),   \n",
    "])\n",
    "\n",
    "CNN2D_prol_32 = keras.models.Sequential([\n",
    "         keras.layers.InputLayer(input_shape=(32, 32, 1)),\n",
    "         tf.keras.layers.UpSampling2D(size=(2, 2)),\n",
    "         tf.keras.layers.Conv2D(1, kernel_size=2, strides=1, padding='SAME',  # prolongation\n",
    "                                kernel_initializer=kernel_initializer_2,\n",
    "                                bias_initializer=bias_initializer),   \n",
    "])\n",
    "\n",
    "CNN2D_prol_64 = keras.models.Sequential([\n",
    "         keras.layers.InputLayer(input_shape=(64, 64, 1)),\n",
    "         tf.keras.layers.UpSampling2D(size=(2, 2)),\n",
    "         tf.keras.layers.Conv2D(1, kernel_size=2, strides=1, padding='SAME',  # prolongation\n",
    "                                kernel_initializer=kernel_initializer_2,\n",
    "                                bias_initializer=bias_initializer),   \n",
    "])\n",
    "\n",
    "CNN2D_prol_1.summary()"
   ]
  },
  {
   "cell_type": "markdown",
   "metadata": {},
   "source": [
    "# Load data"
   ]
  },
  {
   "cell_type": "code",
   "execution_count": 8,
   "metadata": {},
   "outputs": [],
   "source": [
    "import math\n",
    "T = np.zeros([nx,ny])\n",
    "gamma = 10\n",
    "# initialise t:\n",
    "x0 = 0 \n",
    "y0 = 0\n",
    "x = np.zeros([1,nx])\n",
    "y = np.zeros([1,nx])\n",
    "for ii in range(nx):\n",
    "    x[0][ii] = -63.5 + 128/nx*ii\n",
    "    y[0][ii] = -63.5 + 128/nx*ii    \n",
    "#for i in range(1,127):\n",
    "#    for j in range(1,127):\n",
    "for i in range(1,127):\n",
    "    for j in range(1,127):\n",
    "        temp1 = -((x[0][i] - x0)**2 + (y[0][j] - y0)**2)\n",
    "        temp2 = 2*gamma**2\n",
    "        T[i][j] = math.exp(temp1/temp2)\n",
    "#for i in range(64,128):\n",
    "#    for j in range(64,128):\n",
    "#        temp1 = -((x[0][i] - x0)**2 + (y[0][j] - y0)**2)\n",
    "#        temp2 = 2*gamma**2\n",
    "#        T[i][j] = math.exp(temp1/temp2)"
   ]
  },
  {
   "cell_type": "code",
   "execution_count": 9,
   "metadata": {},
   "outputs": [
    {
     "name": "stdout",
     "output_type": "stream",
     "text": [
      "# of groups:  1\n",
      "values.shape:  (1, 128, 128, 1)\n"
     ]
    }
   ],
   "source": [
    "input_shape = (1,nx,ny,1)\n",
    "#groups = ['C1','C2','C3','C4','C5','C6','C7','C8']\n",
    "groups = ['C1']\n",
    "\n",
    "#values = tf.random.normal(input_shape)\n",
    "values = np.zeros(input_shape)\n",
    "values.shape\n",
    "#print('# of times: ', len(times))\n",
    "print('# of groups: ', len(groups))\n",
    "print('values.shape: ', values.shape)"
   ]
  },
  {
   "cell_type": "code",
   "execution_count": 10,
   "metadata": {},
   "outputs": [],
   "source": [
    "# central distribution  \n",
    "for i in range(nx):\n",
    "    for j in range(nx):\n",
    "        values[0][i][j][0] = T[i][j] * 0.8\n",
    "# generate blob\n",
    "blob = np.zeros(input_shape)  \n",
    "for i in range(nx):\n",
    "    if i%4 == 0:\n",
    "        for j in range(ny):\n",
    "            if j%4 == 0:\n",
    "                blob[0][i][j][0] = 0.2\n",
    "#            elif j%3 == 0:\n",
    "#                blob[0][i][j][0] = 20\n",
    "#            elif j%2 == 0:\n",
    "#                blob[0][i][j][0] = 10\n",
    "    else:\n",
    "        for j in range(ny):\n",
    "            if j%4 != 0:\n",
    "                blob[0][i][j][0] = 0.2\n",
    "#            if j%3 != 0:\n",
    "#                blob[0][i][j][0] = 20\n",
    "#            if j%2 != 0:\n",
    "#                blob[0][i][j][0] = 10\n",
    "values = values + blob"
   ]
  },
  {
   "cell_type": "markdown",
   "metadata": {},
   "source": [
    "\n",
    "# Initial condition"
   ]
  },
  {
   "cell_type": "code",
   "execution_count": 11,
   "metadata": {},
   "outputs": [
    {
     "data": {
      "text/plain": [
       "<matplotlib.colorbar.Colorbar at 0x7f86479f3650>"
      ]
     },
     "execution_count": 11,
     "metadata": {},
     "output_type": "execute_result"
    },
    {
     "data": {
      "image/png": "[encoded data removed]",
      "text/plain": [
       "<Figure size 432x288 with 2 Axes>"
      ]
     },
     "metadata": {
      "needs_background": "light"
     },
     "output_type": "display_data"
    }
   ],
   "source": [
    "fig = plt.imshow(values[0,:,:,0], vmin=0, vmax=1.0)\n",
    "plt.colorbar()"
   ]
  },
  {
   "cell_type": "code",
   "execution_count": 12,
   "metadata": {},
   "outputs": [],
   "source": [
    "check_init = values"
   ]
  },
  {
   "cell_type": "markdown",
   "metadata": {},
   "source": [
    "### skipping layer"
   ]
  },
  {
   "cell_type": "code",
   "execution_count": 13,
   "metadata": {},
   "outputs": [],
   "source": [
    "b = values # only for one time step\n",
    "multi_itr = 200\n",
    "j_itr = 2\n",
    "norm_0_error = np.zeros([1,multi_itr])\n",
    "save_itr = np.zeros([5,nx,ny,1])\n",
    "tt = -1\n",
    "PLOT = 0\n",
    "for multi_grid in range(multi_itr):    \n",
    "    values_pold = values.copy()\n",
    "    w = np.zeros([1,1,1,1])\n",
    "    values = (values - CNN2D_bias_128.predict(CNN2D_A_128.predict(values)) + CNN2D_bias_128.predict(b))\n",
    "    r = CNN2D_A_128.predict(values) - b             \n",
    "    r_64 = CNN2D_res_128.predict(r) \n",
    "    r_32 = CNN2D_res_64.predict(r_64) \n",
    "    r_16 = CNN2D_res_32.predict(r_32) \n",
    "    r_8 = CNN2D_res_16.predict(r_16) \n",
    "    r_4 = CNN2D_res_8.predict(r_8) \n",
    "    r_2 = CNN2D_res_4.predict(r_4) \n",
    "    r1 = CNN2D_res_2.predict(r_2)    \n",
    "    \n",
    "    for Jacobi in range(j_itr):\n",
    "        w = (w - CNN2D_bias_1.predict(CNN2D_A_1.predict(w)) + CNN2D_bias_1.predict(r1))\n",
    "    w_2 = CNN2D_prol_1.predict(w)                   \n",
    "    for Jacobi in range(j_itr):\n",
    "        w_2 = (w_2 - CNN2D_bias_2.predict(CNN2D_A_2.predict(w_2)) + CNN2D_bias_2.predict(r_2))\n",
    "    w_4 = CNN2D_prol_2.predict(w_2) \n",
    "    for Jacobi in range(j_itr):\n",
    "        w_4 = (w_4 - CNN2D_bias_4.predict(CNN2D_A_4.predict(w_4)) + CNN2D_bias_4.predict(r_4))\n",
    "    w_8 = CNN2D_prol_4.predict(w_4) \n",
    "    for Jacobi in range(j_itr):\n",
    "        w_8 = (w_8 - CNN2D_bias_8.predict(CNN2D_A_8.predict(w_8)) + CNN2D_bias_8.predict(r_8))\n",
    "    w_16 = CNN2D_prol_8.predict(w_8) \n",
    "    for Jacobi in range(j_itr):\n",
    "        w_16 = (w_16 - CNN2D_bias_16.predict(CNN2D_A_16.predict(w_16)) + CNN2D_bias_16.predict(r_16))\n",
    "    w_32 = CNN2D_prol_16.predict(w_16) \n",
    "    for Jacobi in range(j_itr):\n",
    "        w_32 = (w_32 - CNN2D_bias_32.predict(CNN2D_A_32.predict(w_32)) + CNN2D_bias_32.predict(r_32))\n",
    "    w_64 = CNN2D_prol_32.predict(w_32) \n",
    "    for Jacobi in range(j_itr):\n",
    "        w_64 = (w_64 - CNN2D_bias_64.predict(CNN2D_A_64.predict(w_64)) + CNN2D_bias_64.predict(r_64))\n",
    "    w_128 = CNN2D_prol_64.predict(w_64) \n",
    "    w_128 = (w_128 - CNN2D_bias_128.predict(CNN2D_A_128.predict(w_128)) + CNN2D_bias_128.predict(r)) \n",
    "    values = values - w_128 \n",
    "    values = (values - CNN2D_bias_128.predict(CNN2D_A_128.predict(values)) + CNN2D_bias_128.predict(b))\n",
    "    norm_0_error[0][multi_grid] = sum(sum(sum(sum(r)))) / (nx*ny)      \n",
    "\n",
    "#    if PLOT == 1:\n",
    "#        if iteration == 0 or iteration == 5 or iteration == 10 or iteration == 15 or iteration == 20:\n",
    "#            tt = tt + 1\n",
    "#            save_itr[tt,:,:,0] = values[0,:,:,0]\n",
    "#            fig = plt.imshow(values[0,:,:,0])\n",
    "#            plt.axis('off') \n",
    "#            plt.colorbar(fig, format='%.0e')\n",
    "#            fig_name = \"paper_figure/figure_3/iter_\"+str(iteration)+\".jpg\"\n",
    "#            plt.savefig(fig_name, dpi=200, bbox_inches='tight')        \n",
    "#            plt.close()"
   ]
  },
  {
   "cell_type": "code",
   "execution_count": 14,
   "metadata": {},
   "outputs": [
    {
     "data": {
      "text/plain": [
       "[<matplotlib.lines.Line2D at 0x7f8628841610>]"
      ]
     },
     "execution_count": 14,
     "metadata": {},
     "output_type": "execute_result"
    },
    {
     "data": {
      "image/png": "[encoded data removed]",
      "text/plain": [
       "<Figure size 432x288 with 1 Axes>"
      ]
     },
     "metadata": {
      "needs_background": "light"
     },
     "output_type": "display_data"
    }
   ],
   "source": [
    "plt.plot(norm_0_error[0,:])"
   ]
  },
  {
   "cell_type": "code",
   "execution_count": 15,
   "metadata": {},
   "outputs": [
    {
     "data": {
      "text/plain": [
       "<matplotlib.colorbar.Colorbar at 0x7f86483bd810>"
      ]
     },
     "execution_count": 15,
     "metadata": {},
     "output_type": "execute_result"
    },
    {
     "data": {
      "image/png": "[encoded data removed]",
      "text/plain": [
       "<Figure size 432x288 with 2 Axes>"
      ]
     },
     "metadata": {
      "needs_background": "light"
     },
     "output_type": "display_data"
    }
   ],
   "source": [
    "fig = plt.imshow(values[0,:,:,0], vmin=0, vmax=1.0)\n",
    "plt.colorbar()"
   ]
  },
  {
   "cell_type": "code",
   "execution_count": null,
   "metadata": {},
   "outputs": [],
   "source": []
  }
 ],
 "metadata": {
  "kernelspec": {
   "display_name": "Python 3",
   "language": "python",
   "name": "python3"
  },
  "language_info": {
   "codemirror_mode": {
    "name": "ipython",
    "version": 3
   },
   "file_extension": ".py",
   "mimetype": "text/x-python",
   "name": "python",
   "nbconvert_exporter": "python",
   "pygments_lexer": "ipython3",
   "version": "3.7.12"
  }
 },
 "nbformat": 4,
 "nbformat_minor": 4
}
